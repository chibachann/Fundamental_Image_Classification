{
 "cells": [
  {
   "cell_type": "code",
   "execution_count": 1,
   "metadata": {},
   "outputs": [],
   "source": [
    "import os\n",
    "import csv\n",
    "import matplotlib.pyplot as plt\n",
    "from tqdm import tqdm\n",
    "import torch\n",
    "import torch.nn as nn\n",
    "import torch.optim \n",
    "from torchvision import transforms, datasets\n",
    "from torch.optim.lr_scheduler import ReduceLROnPlateau\n",
    "from torch.utils.data import DataLoader, random_split\n",
    "from tqdm import tqdm\n",
    "from datetime import datetime\n",
    "import torchvision.models as models\n",
    "import random\n",
    "import numpy as np\n",
    "import gc\n",
    "import wandb"
   ]
  },
  {
   "cell_type": "code",
   "execution_count": 2,
   "metadata": {},
   "outputs": [],
   "source": [
    "# 画像のサイズ\n",
    "IMG_SIZE = 224\n",
    "\n",
    "# データのディレクトリのパス\n",
    "FLOWER_DIR = '../input/flowers'\n",
    "\n",
    "batch_size = 128\n"
   ]
  },
  {
   "cell_type": "code",
   "execution_count": 3,
   "metadata": {},
   "outputs": [
    {
     "name": "stdout",
     "output_type": "stream",
     "text": [
      "Using device: cuda\n"
     ]
    }
   ],
   "source": [
    "# GPUが利用可能かどうかを確認し、利用可能ならGPUを使用\n",
    "device = torch.device('cuda' if torch.cuda.is_available() else 'cpu')\n",
    "print(f'Using device: {device}')\n"
   ]
  },
  {
   "cell_type": "markdown",
   "metadata": {},
   "source": [
    "# データセットの作成"
   ]
  },
  {
   "cell_type": "code",
   "execution_count": 4,
   "metadata": {},
   "outputs": [],
   "source": [
    "transforms = transforms.Compose([\n",
    "    transforms.Resize((IMG_SIZE, IMG_SIZE)), # 画像サイズをリサイズ,\n",
    "    transforms.RandomHorizontalFlip(),\n",
    "    transforms.RandomRotation(10),\n",
    "    transforms.ToTensor(),\n",
    "    transforms.Normalize(mean=[0.485, 0.456, 0.406], std=[0.229, 0.224, 0.225])\n",
    "])\n",
    "\n",
    "# データセットを作成\n",
    "dataset = datasets.ImageFolder(FLOWER_DIR, transform=transforms)\n"
   ]
  },
  {
   "cell_type": "code",
   "execution_count": 5,
   "metadata": {},
   "outputs": [],
   "source": [
    "# 学習データに使用する割合\n",
    "n_train_ratio = 0.9\n",
    "\n",
    "# 割合から個数を出す\n",
    "n_train = int(len(dataset) * n_train_ratio)\n",
    "n_val   = int(len(dataset) - n_train)\n"
   ]
  },
  {
   "cell_type": "code",
   "execution_count": 6,
   "metadata": {},
   "outputs": [],
   "source": [
    "# 学習データと検証データに分割\n",
    "train, val = random_split(dataset, [n_train, n_val])\n"
   ]
  },
  {
   "cell_type": "code",
   "execution_count": 7,
   "metadata": {},
   "outputs": [],
   "source": [
    "# Data Loader\n",
    "train_loader = DataLoader(train, batch_size, shuffle=True, drop_last=True, num_workers=2)\n",
    "val_loader = DataLoader(val, batch_size, num_workers=2)\n"
   ]
  },
  {
   "cell_type": "code",
   "execution_count": 8,
   "metadata": {},
   "outputs": [],
   "source": [
    "# ResNet-18モデルの定義\n",
    "class CustomResNet18(nn.Module):\n",
    "    def __init__(self, num_classes):\n",
    "        super(CustomResNet18, self).__init__()\n",
    "        self.resnet = models.resnet18(weights=None)  # 事前学習済みのResNet-18モデルをロード\n",
    "        # 最終の全結合層を入れ替えて、出力クラスの数に合わせる\n",
    "        num_features = self.resnet.fc.in_features\n",
    "        self.resnet.fc = nn.Linear(num_features, num_classes)\n",
    "\n",
    "    def forward(self, x):\n",
    "        return self.resnet(x)\n",
    "\n",
    "# ResNet-34モデルの定義\n",
    "class CustomResNet34(nn.Module):\n",
    "    def __init__(self, num_classes):\n",
    "        super(CustomResNet34, self).__init__()\n",
    "        self.resnet = models.resnet34(weights=None)  # 事前学習済みのResNet-34モデルをロード\n",
    "        # 最終の全結合層を入れ替えて、出力クラスの数に合わせる\n",
    "        num_features = self.resnet.fc.in_features\n",
    "        self.resnet.fc = nn.Linear(num_features, num_classes)\n",
    "\n",
    "    def forward(self, x):\n",
    "        return self.resnet(x)\n",
    "\n",
    "# ResNet-50モデルの定義\n",
    "class CustomResNet50(nn.Module):\n",
    "    def __init__(self, num_classes):\n",
    "        super(CustomResNet50, self).__init__()\n",
    "        self.resnet = models.resnet50(weights=None)  # 事前学習済みのResNet-34モデルをロード\n",
    "        # 最終の全結合層を入れ替えて、出力クラスの数に合わせる\n",
    "        num_features = self.resnet.fc.in_features\n",
    "        self.resnet.fc = nn.Linear(num_features, num_classes)\n",
    "\n",
    "    def forward(self, x):\n",
    "        return self.resnet(x)\n"
   ]
  },
  {
   "cell_type": "code",
   "execution_count": 9,
   "metadata": {},
   "outputs": [],
   "source": [
    "# 2. モデルの構築\n",
    "model1 = CustomResNet18(num_classes=5)\n",
    "model2 = CustomResNet34(num_classes=5)\n",
    "model3 = CustomResNet50(num_classes=5)"
   ]
  },
  {
   "cell_type": "code",
   "execution_count": 10,
   "metadata": {},
   "outputs": [],
   "source": [
    "def train_and_evaluate_model(model, train_loader, val_loader, criterion, optimizer, num_epochs):\n",
    "    train_losses, val_losses = [], []\n",
    "    train_accuracies, val_accuracies = [], []\n",
    "\n",
    "    for epoch in range(num_epochs):\n",
    "        # 訓練フェーズ\n",
    "        model.train()\n",
    "        train_loss, train_correct = 0, 0\n",
    "        for inputs, labels in tqdm(train_loader, desc=f'Epoch {epoch+1}/{num_epochs}, Training...'):\n",
    "            inputs, labels = inputs.to(device), labels.to(device)\n",
    "            optimizer.zero_grad(set_to_none=True)\n",
    "            outputs = model(inputs)\n",
    "            loss = criterion(outputs, labels)\n",
    "            loss.backward()\n",
    "            optimizer.step()\n",
    "\n",
    "            train_loss += loss.item()\n",
    "            _, predicted = torch.max(outputs, 1)\n",
    "            train_correct += (predicted == labels).sum().item()\n",
    "\n",
    "        # 検証フェーズ\n",
    "        model.eval()\n",
    "        val_loss, val_correct = 0, 0\n",
    "        with torch.no_grad():\n",
    "            for inputs, labels in tqdm(val_loader, desc=f'Epoch {epoch+1}/{num_epochs}, Validation...'):\n",
    "                inputs, labels = inputs.to(device), labels.to(device)\n",
    "                outputs = model(inputs)\n",
    "                loss = criterion(outputs, labels)\n",
    "                val_loss += loss.item()\n",
    "                _, predicted = torch.max(outputs, 1)\n",
    "                val_correct += (predicted == labels).sum().item()\n",
    "\n",
    "\n",
    "        scheduler.step(val_loss)\n",
    "        # 現在の学習率を取得\n",
    "        current_lr = optimizer.param_groups[0]['lr']\n",
    "\n",
    "        # Calculate losses and accuracies\n",
    "        train_loss_epoch = train_loss / len(train_loader)\n",
    "        val_loss_epoch = val_loss / len(val_loader)\n",
    "        train_acc_epoch = train_correct / len(train_loader.dataset)\n",
    "        val_acc_epoch = val_correct / len(val_loader.dataset)\n",
    "\n",
    "        train_losses.append(train_loss_epoch)\n",
    "        val_losses.append(val_loss_epoch)\n",
    "        train_accuracies.append(train_acc_epoch)\n",
    "        val_accuracies.append(val_acc_epoch)\n",
    "\n",
    "        # Log metrics to wandb\n",
    "        wandb.log({\"epoch\": epoch, \"train_loss\": train_loss_epoch, \"val_loss\": val_loss_epoch, \n",
    "                   \"train_accuracy\": train_acc_epoch, \"val_accuracy\": val_acc_epoch, \n",
    "                   \"learning_rate\": current_lr})\n",
    "\n",
    "        print(f'Epoch {epoch+1}/{num_epochs}, Train Loss: {train_losses[-1]}, Val Loss: {val_losses[-1]}, Train Acc: {train_accuracies[-1]}, Val Acc: {val_accuracies[-1]}')\n",
    "\n",
    "    return train_losses, val_losses, train_accuracies, val_accuracies\n"
   ]
  },
  {
   "cell_type": "code",
   "execution_count": 11,
   "metadata": {},
   "outputs": [],
   "source": [
    "def clear_gpu():\n",
    "    torch.cuda.empty_cache()\n",
    "    gc.collect()"
   ]
  },
  {
   "cell_type": "code",
   "execution_count": 12,
   "metadata": {},
   "outputs": [],
   "source": [
    "models = [model1, model2, model3]\n",
    "model_names = [\"ResNet18\", \"ResNet34\", \"ResNet50\"]"
   ]
  },
  {
   "cell_type": "code",
   "execution_count": 13,
   "metadata": {},
   "outputs": [
    {
     "name": "stderr",
     "output_type": "stream",
     "text": [
      "Failed to detect the name of this notebook, you can set it manually with the WANDB_NOTEBOOK_NAME environment variable to enable code saving.\n",
      "\u001b[34m\u001b[1mwandb\u001b[0m: Currently logged in as: \u001b[33mchibachann\u001b[0m. Use \u001b[1m`wandb login --relogin`\u001b[0m to force relogin\n"
     ]
    },
    {
     "data": {
      "text/html": [
       "Tracking run with wandb version 0.16.1"
      ],
      "text/plain": [
       "<IPython.core.display.HTML object>"
      ]
     },
     "metadata": {},
     "output_type": "display_data"
    },
    {
     "data": {
      "text/html": [
       "Run data is saved locally in <code>/home/taisei/Desktop/flower-recognition/notebooks/wandb/run-20231210_235823-77ticdfu</code>"
      ],
      "text/plain": [
       "<IPython.core.display.HTML object>"
      ]
     },
     "metadata": {},
     "output_type": "display_data"
    },
    {
     "data": {
      "text/html": [
       "Syncing run <strong><a href='https://wandb.ai/chibachann/comparing%20with%20resnet%20models/runs/77ticdfu' target=\"_blank\">ResNet18</a></strong> to <a href='https://wandb.ai/chibachann/comparing%20with%20resnet%20models' target=\"_blank\">Weights & Biases</a> (<a href='https://wandb.me/run' target=\"_blank\">docs</a>)<br/>"
      ],
      "text/plain": [
       "<IPython.core.display.HTML object>"
      ]
     },
     "metadata": {},
     "output_type": "display_data"
    },
    {
     "data": {
      "text/html": [
       " View project at <a href='https://wandb.ai/chibachann/comparing%20with%20resnet%20models' target=\"_blank\">https://wandb.ai/chibachann/comparing%20with%20resnet%20models</a>"
      ],
      "text/plain": [
       "<IPython.core.display.HTML object>"
      ]
     },
     "metadata": {},
     "output_type": "display_data"
    },
    {
     "data": {
      "text/html": [
       " View run at <a href='https://wandb.ai/chibachann/comparing%20with%20resnet%20models/runs/77ticdfu' target=\"_blank\">https://wandb.ai/chibachann/comparing%20with%20resnet%20models/runs/77ticdfu</a>"
      ],
      "text/plain": [
       "<IPython.core.display.HTML object>"
      ]
     },
     "metadata": {},
     "output_type": "display_data"
    },
    {
     "name": "stderr",
     "output_type": "stream",
     "text": [
      "Epoch 1/50, Training...: 100%|██████████| 30/30 [00:05<00:00,  5.15it/s]\n",
      "Epoch 1/50, Validation...: 100%|██████████| 4/4 [00:00<00:00,  5.17it/s]\n"
     ]
    },
    {
     "name": "stdout",
     "output_type": "stream",
     "text": [
      "Epoch 1/50, Train Loss: 1.2948746800422668, Val Loss: 1.956826090812683, Train Acc: 0.4882882882882883, Val Acc: 0.36574074074074076\n"
     ]
    },
    {
     "name": "stderr",
     "output_type": "stream",
     "text": [
      "Epoch 2/50, Training...: 100%|██████████| 30/30 [00:05<00:00,  5.41it/s]\n",
      "Epoch 2/50, Validation...: 100%|██████████| 4/4 [00:00<00:00,  5.75it/s]\n"
     ]
    },
    {
     "name": "stdout",
     "output_type": "stream",
     "text": [
      "Epoch 2/50, Train Loss: 0.9912045220534007, Val Loss: 1.1006075590848923, Train Acc: 0.6041184041184041, Val Acc: 0.5648148148148148\n"
     ]
    },
    {
     "name": "stderr",
     "output_type": "stream",
     "text": [
      "Epoch 3/50, Training...: 100%|██████████| 30/30 [00:05<00:00,  5.45it/s]\n",
      "Epoch 3/50, Validation...: 100%|██████████| 4/4 [00:00<00:00,  5.73it/s]\n"
     ]
    },
    {
     "name": "stdout",
     "output_type": "stream",
     "text": [
      "Epoch 3/50, Train Loss: 0.9079195221265157, Val Loss: 0.922325074672699, Train Acc: 0.6491634491634491, Val Acc: 0.6759259259259259\n"
     ]
    },
    {
     "name": "stderr",
     "output_type": "stream",
     "text": [
      "Epoch 4/50, Training...: 100%|██████████| 30/30 [00:05<00:00,  5.45it/s]\n",
      "Epoch 4/50, Validation...: 100%|██████████| 4/4 [00:00<00:00,  5.87it/s]\n"
     ]
    },
    {
     "name": "stdout",
     "output_type": "stream",
     "text": [
      "Epoch 4/50, Train Loss: 0.8367922306060791, Val Loss: 0.8157925456762314, Train Acc: 0.6761904761904762, Val Acc: 0.6620370370370371\n"
     ]
    },
    {
     "name": "stderr",
     "output_type": "stream",
     "text": [
      "Epoch 5/50, Training...: 100%|██████████| 30/30 [00:05<00:00,  5.42it/s]\n",
      "Epoch 5/50, Validation...: 100%|██████████| 4/4 [00:00<00:00,  5.83it/s]\n"
     ]
    },
    {
     "name": "stdout",
     "output_type": "stream",
     "text": [
      "Epoch 5/50, Train Loss: 0.7947464764118195, Val Loss: 0.895732581615448, Train Acc: 0.6947232947232947, Val Acc: 0.6412037037037037\n"
     ]
    },
    {
     "name": "stderr",
     "output_type": "stream",
     "text": [
      "Epoch 6/50, Training...: 100%|██████████| 30/30 [00:05<00:00,  5.43it/s]\n",
      "Epoch 6/50, Validation...: 100%|██████████| 4/4 [00:00<00:00,  5.86it/s]\n"
     ]
    },
    {
     "name": "stdout",
     "output_type": "stream",
     "text": [
      "Epoch 6/50, Train Loss: 0.7341570953528086, Val Loss: 0.9624619632959366, Train Acc: 0.7184041184041184, Val Acc: 0.6203703703703703\n"
     ]
    },
    {
     "name": "stderr",
     "output_type": "stream",
     "text": [
      "Epoch 7/50, Training...: 100%|██████████| 30/30 [00:05<00:00,  5.40it/s]\n",
      "Epoch 7/50, Validation...: 100%|██████████| 4/4 [00:00<00:00,  5.41it/s]\n"
     ]
    },
    {
     "name": "stdout",
     "output_type": "stream",
     "text": [
      "Epoch 7/50, Train Loss: 0.7189041535059612, Val Loss: 0.9459293931722641, Train Acc: 0.7266409266409266, Val Acc: 0.6805555555555556\n"
     ]
    },
    {
     "name": "stderr",
     "output_type": "stream",
     "text": [
      "Epoch 8/50, Training...: 100%|██████████| 30/30 [00:05<00:00,  5.37it/s]\n",
      "Epoch 8/50, Validation...: 100%|██████████| 4/4 [00:00<00:00,  5.43it/s]\n"
     ]
    },
    {
     "name": "stdout",
     "output_type": "stream",
     "text": [
      "Epoch 8/50, Train Loss: 0.6856604059537251, Val Loss: 0.7932804226875305, Train Acc: 0.7328185328185328, Val Acc: 0.6990740740740741\n"
     ]
    },
    {
     "name": "stderr",
     "output_type": "stream",
     "text": [
      "Epoch 9/50, Training...: 100%|██████████| 30/30 [00:06<00:00,  4.40it/s]\n",
      "Epoch 9/50, Validation...: 100%|██████████| 4/4 [00:00<00:00,  4.81it/s]\n"
     ]
    },
    {
     "name": "stdout",
     "output_type": "stream",
     "text": [
      "Epoch 9/50, Train Loss: 0.6476598421732584, Val Loss: 0.9092619121074677, Train Acc: 0.7474903474903475, Val Acc: 0.6666666666666666\n"
     ]
    },
    {
     "name": "stderr",
     "output_type": "stream",
     "text": [
      "Epoch 10/50, Training...: 100%|██████████| 30/30 [00:06<00:00,  4.43it/s]\n",
      "Epoch 10/50, Validation...: 100%|██████████| 4/4 [00:00<00:00,  4.82it/s]\n"
     ]
    },
    {
     "name": "stdout",
     "output_type": "stream",
     "text": [
      "Epoch 10/50, Train Loss: 0.6231930196285248, Val Loss: 1.0078654736280441, Train Acc: 0.7647361647361647, Val Acc: 0.6666666666666666\n"
     ]
    },
    {
     "name": "stderr",
     "output_type": "stream",
     "text": [
      "Epoch 11/50, Training...: 100%|██████████| 30/30 [00:06<00:00,  4.42it/s]\n",
      "Epoch 11/50, Validation...: 100%|██████████| 4/4 [00:00<00:00,  4.93it/s]\n"
     ]
    },
    {
     "name": "stdout",
     "output_type": "stream",
     "text": [
      "Epoch 11/50, Train Loss: 0.6144145548343658, Val Loss: 0.6797025874257088, Train Acc: 0.7598455598455598, Val Acc: 0.7453703703703703\n"
     ]
    },
    {
     "name": "stderr",
     "output_type": "stream",
     "text": [
      "Epoch 12/50, Training...: 100%|██████████| 30/30 [00:06<00:00,  4.41it/s]\n",
      "Epoch 12/50, Validation...: 100%|██████████| 4/4 [00:00<00:00,  4.76it/s]\n"
     ]
    },
    {
     "name": "stdout",
     "output_type": "stream",
     "text": [
      "Epoch 12/50, Train Loss: 0.5945731272300084, Val Loss: 0.9014952927827835, Train Acc: 0.7747747747747747, Val Acc: 0.6412037037037037\n"
     ]
    },
    {
     "name": "stderr",
     "output_type": "stream",
     "text": [
      "Epoch 13/50, Training...: 100%|██████████| 30/30 [00:06<00:00,  4.41it/s]\n",
      "Epoch 13/50, Validation...: 100%|██████████| 4/4 [00:00<00:00,  4.85it/s]\n"
     ]
    },
    {
     "name": "stdout",
     "output_type": "stream",
     "text": [
      "Epoch 13/50, Train Loss: 0.5584353109200796, Val Loss: 0.6840105131268501, Train Acc: 0.7884169884169884, Val Acc: 0.7314814814814815\n"
     ]
    },
    {
     "name": "stderr",
     "output_type": "stream",
     "text": [
      "Epoch 14/50, Training...: 100%|██████████| 30/30 [00:07<00:00,  4.28it/s]\n",
      "Epoch 14/50, Validation...: 100%|██████████| 4/4 [00:00<00:00,  5.05it/s]\n"
     ]
    },
    {
     "name": "stdout",
     "output_type": "stream",
     "text": [
      "Epoch 14/50, Train Loss: 0.5321855078140895, Val Loss: 0.6565543934702873, Train Acc: 0.7969111969111969, Val Acc: 0.7430555555555556\n"
     ]
    },
    {
     "name": "stderr",
     "output_type": "stream",
     "text": [
      "Epoch 15/50, Training...: 100%|██████████| 30/30 [00:06<00:00,  4.40it/s]\n",
      "Epoch 15/50, Validation...: 100%|██████████| 4/4 [00:00<00:00,  4.94it/s]\n"
     ]
    },
    {
     "name": "stdout",
     "output_type": "stream",
     "text": [
      "Epoch 15/50, Train Loss: 0.4923080027103424, Val Loss: 0.6677360683679581, Train Acc: 0.8126126126126126, Val Acc: 0.7546296296296297\n"
     ]
    },
    {
     "name": "stderr",
     "output_type": "stream",
     "text": [
      "Epoch 16/50, Training...: 100%|██████████| 30/30 [00:06<00:00,  4.39it/s]\n",
      "Epoch 16/50, Validation...: 100%|██████████| 4/4 [00:00<00:00,  4.84it/s]\n"
     ]
    },
    {
     "name": "stdout",
     "output_type": "stream",
     "text": [
      "Epoch 16/50, Train Loss: 0.49520349701245625, Val Loss: 0.6056516170501709, Train Acc: 0.8151866151866152, Val Acc: 0.7916666666666666\n"
     ]
    },
    {
     "name": "stderr",
     "output_type": "stream",
     "text": [
      "Epoch 17/50, Training...: 100%|██████████| 30/30 [00:06<00:00,  4.41it/s]\n",
      "Epoch 17/50, Validation...: 100%|██████████| 4/4 [00:00<00:00,  4.90it/s]\n"
     ]
    },
    {
     "name": "stdout",
     "output_type": "stream",
     "text": [
      "Epoch 17/50, Train Loss: 0.49158207575480145, Val Loss: 0.586648590862751, Train Acc: 0.81003861003861, Val Acc: 0.7708333333333334\n"
     ]
    },
    {
     "name": "stderr",
     "output_type": "stream",
     "text": [
      "Epoch 18/50, Training...: 100%|██████████| 30/30 [00:06<00:00,  4.41it/s]\n",
      "Epoch 18/50, Validation...: 100%|██████████| 4/4 [00:00<00:00,  4.83it/s]\n"
     ]
    },
    {
     "name": "stdout",
     "output_type": "stream",
     "text": [
      "Epoch 18/50, Train Loss: 0.48002633651097615, Val Loss: 0.6630918309092522, Train Acc: 0.8177606177606178, Val Acc: 0.7384259259259259\n"
     ]
    },
    {
     "name": "stderr",
     "output_type": "stream",
     "text": [
      "Epoch 19/50, Training...: 100%|██████████| 30/30 [00:06<00:00,  4.39it/s]\n",
      "Epoch 19/50, Validation...: 100%|██████████| 4/4 [00:00<00:00,  4.89it/s]\n"
     ]
    },
    {
     "name": "stdout",
     "output_type": "stream",
     "text": [
      "Epoch 19/50, Train Loss: 0.43971640765666964, Val Loss: 0.5500415861606598, Train Acc: 0.8277992277992278, Val Acc: 0.8055555555555556\n"
     ]
    },
    {
     "name": "stderr",
     "output_type": "stream",
     "text": [
      "Epoch 20/50, Training...: 100%|██████████| 30/30 [00:06<00:00,  4.42it/s]\n",
      "Epoch 20/50, Validation...: 100%|██████████| 4/4 [00:00<00:00,  5.03it/s]\n"
     ]
    },
    {
     "name": "stdout",
     "output_type": "stream",
     "text": [
      "Epoch 20/50, Train Loss: 0.4243619829416275, Val Loss: 0.7938090860843658, Train Acc: 0.8396396396396396, Val Acc: 0.6967592592592593\n"
     ]
    },
    {
     "name": "stderr",
     "output_type": "stream",
     "text": [
      "Epoch 21/50, Training...: 100%|██████████| 30/30 [00:06<00:00,  4.40it/s]\n",
      "Epoch 21/50, Validation...: 100%|██████████| 4/4 [00:00<00:00,  4.78it/s]\n"
     ]
    },
    {
     "name": "stdout",
     "output_type": "stream",
     "text": [
      "Epoch 21/50, Train Loss: 0.38786810835202534, Val Loss: 0.7873927056789398, Train Acc: 0.8489060489060489, Val Acc: 0.7013888888888888\n"
     ]
    },
    {
     "name": "stderr",
     "output_type": "stream",
     "text": [
      "Epoch 22/50, Training...: 100%|██████████| 30/30 [00:06<00:00,  4.42it/s]\n",
      "Epoch 22/50, Validation...: 100%|██████████| 4/4 [00:00<00:00,  4.71it/s]\n"
     ]
    },
    {
     "name": "stdout",
     "output_type": "stream",
     "text": [
      "Epoch 22/50, Train Loss: 0.39644547601540886, Val Loss: 0.4731758311390877, Train Acc: 0.8442728442728443, Val Acc: 0.8217592592592593\n"
     ]
    },
    {
     "name": "stderr",
     "output_type": "stream",
     "text": [
      "Epoch 23/50, Training...: 100%|██████████| 30/30 [00:06<00:00,  4.38it/s]\n",
      "Epoch 23/50, Validation...: 100%|██████████| 4/4 [00:00<00:00,  5.03it/s]\n"
     ]
    },
    {
     "name": "stdout",
     "output_type": "stream",
     "text": [
      "Epoch 23/50, Train Loss: 0.3708359638849894, Val Loss: 0.7524756193161011, Train Acc: 0.8555984555984556, Val Acc: 0.7314814814814815\n"
     ]
    },
    {
     "name": "stderr",
     "output_type": "stream",
     "text": [
      "Epoch 24/50, Training...: 100%|██████████| 30/30 [00:06<00:00,  4.40it/s]\n",
      "Epoch 24/50, Validation...: 100%|██████████| 4/4 [00:00<00:00,  4.54it/s]\n"
     ]
    },
    {
     "name": "stdout",
     "output_type": "stream",
     "text": [
      "Epoch 24/50, Train Loss: 0.3810425614317258, Val Loss: 0.7791081666946411, Train Acc: 0.8512226512226512, Val Acc: 0.75\n"
     ]
    },
    {
     "name": "stderr",
     "output_type": "stream",
     "text": [
      "Epoch 25/50, Training...: 100%|██████████| 30/30 [00:06<00:00,  4.40it/s]\n",
      "Epoch 25/50, Validation...: 100%|██████████| 4/4 [00:00<00:00,  4.89it/s]\n"
     ]
    },
    {
     "name": "stdout",
     "output_type": "stream",
     "text": [
      "Epoch 25/50, Train Loss: 0.3689604376753171, Val Loss: 1.29519984126091, Train Acc: 0.8602316602316602, Val Acc: 0.6944444444444444\n"
     ]
    },
    {
     "name": "stderr",
     "output_type": "stream",
     "text": [
      "Epoch 26/50, Training...: 100%|██████████| 30/30 [00:06<00:00,  4.39it/s]\n",
      "Epoch 26/50, Validation...: 100%|██████████| 4/4 [00:00<00:00,  4.66it/s]\n"
     ]
    },
    {
     "name": "stdout",
     "output_type": "stream",
     "text": [
      "Epoch 26/50, Train Loss: 0.3274942979216576, Val Loss: 0.553338073194027, Train Acc: 0.872072072072072, Val Acc: 0.8078703703703703\n"
     ]
    },
    {
     "name": "stderr",
     "output_type": "stream",
     "text": [
      "Epoch 27/50, Training...: 100%|██████████| 30/30 [00:06<00:00,  4.42it/s]\n",
      "Epoch 27/50, Validation...: 100%|██████████| 4/4 [00:00<00:00,  4.88it/s]\n"
     ]
    },
    {
     "name": "stdout",
     "output_type": "stream",
     "text": [
      "Epoch 27/50, Train Loss: 0.3288343012332916, Val Loss: 0.5157474055886269, Train Acc: 0.8712998712998713, Val Acc: 0.8333333333333334\n"
     ]
    },
    {
     "name": "stderr",
     "output_type": "stream",
     "text": [
      "Epoch 28/50, Training...: 100%|██████████| 30/30 [00:06<00:00,  4.42it/s]\n",
      "Epoch 28/50, Validation...: 100%|██████████| 4/4 [00:00<00:00,  4.74it/s]\n"
     ]
    },
    {
     "name": "stdout",
     "output_type": "stream",
     "text": [
      "Epoch 28/50, Train Loss: 0.31724008868137993, Val Loss: 0.5740417987108231, Train Acc: 0.8769626769626769, Val Acc: 0.7754629629629629\n"
     ]
    },
    {
     "name": "stderr",
     "output_type": "stream",
     "text": [
      "Epoch 29/50, Training...: 100%|██████████| 30/30 [00:06<00:00,  4.43it/s]\n",
      "Epoch 29/50, Validation...: 100%|██████████| 4/4 [00:00<00:00,  5.08it/s]\n"
     ]
    },
    {
     "name": "stdout",
     "output_type": "stream",
     "text": [
      "Epoch 29/50, Train Loss: 0.24414198448260624, Val Loss: 0.4074573293328285, Train Acc: 0.9032175032175033, Val Acc: 0.8472222222222222\n"
     ]
    },
    {
     "name": "stderr",
     "output_type": "stream",
     "text": [
      "Epoch 30/50, Training...: 100%|██████████| 30/30 [00:06<00:00,  4.43it/s]\n",
      "Epoch 30/50, Validation...: 100%|██████████| 4/4 [00:00<00:00,  4.85it/s]\n"
     ]
    },
    {
     "name": "stdout",
     "output_type": "stream",
     "text": [
      "Epoch 30/50, Train Loss: 0.19286877686778706, Val Loss: 0.39543241262435913, Train Acc: 0.9256113256113256, Val Acc: 0.8657407407407407\n"
     ]
    },
    {
     "name": "stderr",
     "output_type": "stream",
     "text": [
      "Epoch 31/50, Training...: 100%|██████████| 30/30 [00:06<00:00,  4.39it/s]\n",
      "Epoch 31/50, Validation...: 100%|██████████| 4/4 [00:00<00:00,  4.96it/s]\n"
     ]
    },
    {
     "name": "stdout",
     "output_type": "stream",
     "text": [
      "Epoch 31/50, Train Loss: 0.17528991277019182, Val Loss: 0.3733535148203373, Train Acc: 0.92998712998713, Val Acc: 0.8680555555555556\n"
     ]
    },
    {
     "name": "stderr",
     "output_type": "stream",
     "text": [
      "Epoch 32/50, Training...: 100%|██████████| 30/30 [00:06<00:00,  4.41it/s]\n",
      "Epoch 32/50, Validation...: 100%|██████████| 4/4 [00:00<00:00,  4.83it/s]\n"
     ]
    },
    {
     "name": "stdout",
     "output_type": "stream",
     "text": [
      "Epoch 32/50, Train Loss: 0.16592710986733436, Val Loss: 0.39280469715595245, Train Acc: 0.9371943371943372, Val Acc: 0.8495370370370371\n"
     ]
    },
    {
     "name": "stderr",
     "output_type": "stream",
     "text": [
      "Epoch 33/50, Training...: 100%|██████████| 30/30 [00:06<00:00,  4.43it/s]\n",
      "Epoch 33/50, Validation...: 100%|██████████| 4/4 [00:00<00:00,  4.83it/s]\n"
     ]
    },
    {
     "name": "stdout",
     "output_type": "stream",
     "text": [
      "Epoch 33/50, Train Loss: 0.14766356348991394, Val Loss: 0.38443008065223694, Train Acc: 0.94002574002574, Val Acc: 0.875\n"
     ]
    },
    {
     "name": "stderr",
     "output_type": "stream",
     "text": [
      "Epoch 34/50, Training...: 100%|██████████| 30/30 [00:06<00:00,  4.40it/s]\n",
      "Epoch 34/50, Validation...: 100%|██████████| 4/4 [00:00<00:00,  5.01it/s]\n"
     ]
    },
    {
     "name": "stdout",
     "output_type": "stream",
     "text": [
      "Epoch 34/50, Train Loss: 0.13424868360161782, Val Loss: 0.39390790089964867, Train Acc: 0.9456885456885457, Val Acc: 0.8657407407407407\n"
     ]
    },
    {
     "name": "stderr",
     "output_type": "stream",
     "text": [
      "Epoch 35/50, Training...: 100%|██████████| 30/30 [00:06<00:00,  4.39it/s]\n",
      "Epoch 35/50, Validation...: 100%|██████████| 4/4 [00:00<00:00,  4.90it/s]\n"
     ]
    },
    {
     "name": "stdout",
     "output_type": "stream",
     "text": [
      "Epoch 35/50, Train Loss: 0.13066045741240184, Val Loss: 0.44060545414686203, Train Acc: 0.9467181467181467, Val Acc: 0.8587962962962963\n"
     ]
    },
    {
     "name": "stderr",
     "output_type": "stream",
     "text": [
      "Epoch 36/50, Training...: 100%|██████████| 30/30 [00:06<00:00,  4.41it/s]\n",
      "Epoch 36/50, Validation...: 100%|██████████| 4/4 [00:00<00:00,  4.94it/s]\n"
     ]
    },
    {
     "name": "stdout",
     "output_type": "stream",
     "text": [
      "Epoch 36/50, Train Loss: 0.12330010856191317, Val Loss: 0.41193705052137375, Train Acc: 0.9505791505791505, Val Acc: 0.8819444444444444\n"
     ]
    },
    {
     "name": "stderr",
     "output_type": "stream",
     "text": [
      "Epoch 37/50, Training...: 100%|██████████| 30/30 [00:06<00:00,  4.41it/s]\n",
      "Epoch 37/50, Validation...: 100%|██████████| 4/4 [00:00<00:00,  4.99it/s]\n"
     ]
    },
    {
     "name": "stdout",
     "output_type": "stream",
     "text": [
      "Epoch 37/50, Train Loss: 0.11043203019847472, Val Loss: 0.4163641221821308, Train Acc: 0.9562419562419563, Val Acc: 0.8518518518518519\n"
     ]
    },
    {
     "name": "stderr",
     "output_type": "stream",
     "text": [
      "Epoch 38/50, Training...: 100%|██████████| 30/30 [00:06<00:00,  4.39it/s]\n",
      "Epoch 38/50, Validation...: 100%|██████████| 4/4 [00:00<00:00,  5.03it/s]\n"
     ]
    },
    {
     "name": "stdout",
     "output_type": "stream",
     "text": [
      "Epoch 38/50, Train Loss: 0.11061809646586578, Val Loss: 0.38818488642573357, Train Acc: 0.9508365508365508, Val Acc: 0.8726851851851852\n"
     ]
    },
    {
     "name": "stderr",
     "output_type": "stream",
     "text": [
      "Epoch 39/50, Training...: 100%|██████████| 30/30 [00:06<00:00,  4.43it/s]\n",
      "Epoch 39/50, Validation...: 100%|██████████| 4/4 [00:00<00:00,  5.06it/s]\n"
     ]
    },
    {
     "name": "stdout",
     "output_type": "stream",
     "text": [
      "Epoch 39/50, Train Loss: 0.09991344871620338, Val Loss: 0.41274135559797287, Train Acc: 0.9577863577863578, Val Acc: 0.8587962962962963\n"
     ]
    },
    {
     "name": "stderr",
     "output_type": "stream",
     "text": [
      "Epoch 40/50, Training...: 100%|██████████| 30/30 [00:06<00:00,  4.40it/s]\n",
      "Epoch 40/50, Validation...: 100%|██████████| 4/4 [00:00<00:00,  4.92it/s]\n"
     ]
    },
    {
     "name": "stdout",
     "output_type": "stream",
     "text": [
      "Epoch 40/50, Train Loss: 0.09792137704789639, Val Loss: 0.41841138154268265, Train Acc: 0.9575289575289575, Val Acc: 0.8611111111111112\n"
     ]
    },
    {
     "name": "stderr",
     "output_type": "stream",
     "text": [
      "Epoch 41/50, Training...: 100%|██████████| 30/30 [00:06<00:00,  4.41it/s]\n",
      "Epoch 41/50, Validation...: 100%|██████████| 4/4 [00:00<00:00,  4.77it/s]\n"
     ]
    },
    {
     "name": "stdout",
     "output_type": "stream",
     "text": [
      "Epoch 41/50, Train Loss: 0.09781898508469264, Val Loss: 0.428507000207901, Train Acc: 0.9577863577863578, Val Acc: 0.8541666666666666\n"
     ]
    },
    {
     "name": "stderr",
     "output_type": "stream",
     "text": [
      "Epoch 42/50, Training...: 100%|██████████| 30/30 [00:06<00:00,  4.40it/s]\n",
      "Epoch 42/50, Validation...: 100%|██████████| 4/4 [00:00<00:00,  4.87it/s]\n"
     ]
    },
    {
     "name": "stdout",
     "output_type": "stream",
     "text": [
      "Epoch 42/50, Train Loss: 0.09683903977274895, Val Loss: 0.43280184268951416, Train Acc: 0.9580437580437581, Val Acc: 0.8495370370370371\n"
     ]
    },
    {
     "name": "stderr",
     "output_type": "stream",
     "text": [
      "Epoch 43/50, Training...: 100%|██████████| 30/30 [00:06<00:00,  4.39it/s]\n",
      "Epoch 43/50, Validation...: 100%|██████████| 4/4 [00:00<00:00,  4.82it/s]\n"
     ]
    },
    {
     "name": "stdout",
     "output_type": "stream",
     "text": [
      "Epoch 43/50, Train Loss: 0.0952831922719876, Val Loss: 0.42461594194173813, Train Acc: 0.9595881595881596, Val Acc: 0.8611111111111112\n"
     ]
    },
    {
     "name": "stderr",
     "output_type": "stream",
     "text": [
      "Epoch 44/50, Training...: 100%|██████████| 30/30 [00:06<00:00,  4.40it/s]\n",
      "Epoch 44/50, Validation...: 100%|██████████| 4/4 [00:00<00:00,  5.05it/s]\n"
     ]
    },
    {
     "name": "stdout",
     "output_type": "stream",
     "text": [
      "Epoch 44/50, Train Loss: 0.09152919699748358, Val Loss: 0.3956589959561825, Train Acc: 0.9603603603603603, Val Acc: 0.8564814814814815\n"
     ]
    },
    {
     "name": "stderr",
     "output_type": "stream",
     "text": [
      "Epoch 45/50, Training...: 100%|██████████| 30/30 [00:06<00:00,  4.41it/s]\n",
      "Epoch 45/50, Validation...: 100%|██████████| 4/4 [00:00<00:00,  4.78it/s]\n"
     ]
    },
    {
     "name": "stdout",
     "output_type": "stream",
     "text": [
      "Epoch 45/50, Train Loss: 0.09714185434083143, Val Loss: 0.3960082307457924, Train Acc: 0.9583011583011583, Val Acc: 0.8657407407407407\n"
     ]
    },
    {
     "name": "stderr",
     "output_type": "stream",
     "text": [
      "Epoch 46/50, Training...: 100%|██████████| 30/30 [00:06<00:00,  4.40it/s]\n",
      "Epoch 46/50, Validation...: 100%|██████████| 4/4 [00:00<00:00,  5.05it/s]\n"
     ]
    },
    {
     "name": "stdout",
     "output_type": "stream",
     "text": [
      "Epoch 46/50, Train Loss: 0.09685880752901237, Val Loss: 0.3941994458436966, Train Acc: 0.9608751608751609, Val Acc: 0.8703703703703703\n"
     ]
    },
    {
     "name": "stderr",
     "output_type": "stream",
     "text": [
      "Epoch 47/50, Training...: 100%|██████████| 30/30 [00:06<00:00,  4.35it/s]\n",
      "Epoch 47/50, Validation...: 100%|██████████| 4/4 [00:00<00:00,  4.82it/s]\n"
     ]
    },
    {
     "name": "stdout",
     "output_type": "stream",
     "text": [
      "Epoch 47/50, Train Loss: 0.08850760633746783, Val Loss: 0.398064699023962, Train Acc: 0.9624195624195624, Val Acc: 0.8634259259259259\n"
     ]
    },
    {
     "name": "stderr",
     "output_type": "stream",
     "text": [
      "Epoch 48/50, Training...: 100%|██████████| 30/30 [00:06<00:00,  4.41it/s]\n",
      "Epoch 48/50, Validation...: 100%|██████████| 4/4 [00:00<00:00,  4.81it/s]\n"
     ]
    },
    {
     "name": "stdout",
     "output_type": "stream",
     "text": [
      "Epoch 48/50, Train Loss: 0.08964210500319798, Val Loss: 0.4515119940042496, Train Acc: 0.9626769626769627, Val Acc: 0.8657407407407407\n"
     ]
    },
    {
     "name": "stderr",
     "output_type": "stream",
     "text": [
      "Epoch 49/50, Training...: 100%|██████████| 30/30 [00:06<00:00,  4.40it/s]\n",
      "Epoch 49/50, Validation...: 100%|██████████| 4/4 [00:00<00:00,  4.99it/s]\n"
     ]
    },
    {
     "name": "stdout",
     "output_type": "stream",
     "text": [
      "Epoch 49/50, Train Loss: 0.08780557761589686, Val Loss: 0.387972105294466, Train Acc: 0.9655083655083655, Val Acc: 0.8680555555555556\n"
     ]
    },
    {
     "name": "stderr",
     "output_type": "stream",
     "text": [
      "Epoch 50/50, Training...: 100%|██████████| 30/30 [00:06<00:00,  4.34it/s]\n",
      "Epoch 50/50, Validation...: 100%|██████████| 4/4 [00:00<00:00,  4.85it/s]"
     ]
    },
    {
     "name": "stdout",
     "output_type": "stream",
     "text": [
      "Epoch 50/50, Train Loss: 0.09346040164430937, Val Loss: 0.40987616777420044, Train Acc: 0.9575289575289575, Val Acc: 0.8634259259259259\n"
     ]
    },
    {
     "name": "stderr",
     "output_type": "stream",
     "text": [
      "\n"
     ]
    },
    {
     "data": {
      "text/html": [
       "Finishing last run (ID:77ticdfu) before initializing another..."
      ],
      "text/plain": [
       "<IPython.core.display.HTML object>"
      ]
     },
     "metadata": {},
     "output_type": "display_data"
    },
    {
     "name": "stderr",
     "output_type": "stream",
     "text": [
      "wandb: WARNING Source type is set to 'repo' but some required information is missing from the environment. A job will not be created from this run. See https://docs.wandb.ai/guides/launch/create-job\n"
     ]
    },
    {
     "data": {
      "text/html": [
       "<style>\n",
       "    table.wandb td:nth-child(1) { padding: 0 10px; text-align: left ; width: auto;} td:nth-child(2) {text-align: left ; width: 100%}\n",
       "    .wandb-row { display: flex; flex-direction: row; flex-wrap: wrap; justify-content: flex-start; width: 100% }\n",
       "    .wandb-col { display: flex; flex-direction: column; flex-basis: 100%; flex: 1; padding: 10px; }\n",
       "    </style>\n",
       "<div class=\"wandb-row\"><div class=\"wandb-col\"><h3>Run history:</h3><br/><table class=\"wandb\"><tr><td>epoch</td><td>▁▁▁▁▂▂▂▂▂▃▃▃▃▃▃▄▄▄▄▄▅▅▅▅▅▅▆▆▆▆▆▆▇▇▇▇▇███</td></tr><tr><td>learning_rate</td><td>██████████████████████▂▂▂▂▂▂▂▁▁▁▁▁▁▁▁▁▁▁</td></tr><tr><td>train_accuracy</td><td>▁▃▃▄▄▅▅▅▅▅▅▆▆▆▆▆▆▆▆▆▇▇▇▇████████████████</td></tr><tr><td>train_loss</td><td>█▆▆▅▅▅▄▄▄▄▄▄▃▃▃▃▃▃▃▃▂▂▂▂▂▁▁▁▁▁▁▁▁▁▁▁▁▁▁▁</td></tr><tr><td>val_accuracy</td><td>▁▄▅▅▄▅▆▅▆▅▆▆▇▆▆▇▆▇▆▆▇▇▇█████████████████</td></tr><tr><td>val_loss</td><td>█▄▃▃▄▄▃▃▂▃▂▂▂▂▂▂▃▁▃▃▂▂▂▁▁▁▁▁▁▁▁▁▁▁▁▁▁▁▁▁</td></tr></table><br/></div><div class=\"wandb-col\"><h3>Run summary:</h3><br/><table class=\"wandb\"><tr><td>epoch</td><td>49</td></tr><tr><td>learning_rate</td><td>0.0</td></tr><tr><td>train_accuracy</td><td>0.95753</td></tr><tr><td>train_loss</td><td>0.09346</td></tr><tr><td>val_accuracy</td><td>0.86343</td></tr><tr><td>val_loss</td><td>0.40988</td></tr></table><br/></div></div>"
      ],
      "text/plain": [
       "<IPython.core.display.HTML object>"
      ]
     },
     "metadata": {},
     "output_type": "display_data"
    },
    {
     "data": {
      "text/html": [
       " View run <strong style=\"color:#cdcd00\">ResNet18</strong> at: <a href='https://wandb.ai/chibachann/comparing%20with%20resnet%20models/runs/77ticdfu' target=\"_blank\">https://wandb.ai/chibachann/comparing%20with%20resnet%20models/runs/77ticdfu</a><br/>Synced 6 W&B file(s), 0 media file(s), 0 artifact file(s) and 0 other file(s)"
      ],
      "text/plain": [
       "<IPython.core.display.HTML object>"
      ]
     },
     "metadata": {},
     "output_type": "display_data"
    },
    {
     "data": {
      "text/html": [
       "Find logs at: <code>./wandb/run-20231210_235823-77ticdfu/logs</code>"
      ],
      "text/plain": [
       "<IPython.core.display.HTML object>"
      ]
     },
     "metadata": {},
     "output_type": "display_data"
    },
    {
     "data": {
      "text/html": [
       "Successfully finished last run (ID:77ticdfu). Initializing new run:<br/>"
      ],
      "text/plain": [
       "<IPython.core.display.HTML object>"
      ]
     },
     "metadata": {},
     "output_type": "display_data"
    },
    {
     "data": {
      "text/html": [
       "Tracking run with wandb version 0.16.1"
      ],
      "text/plain": [
       "<IPython.core.display.HTML object>"
      ]
     },
     "metadata": {},
     "output_type": "display_data"
    },
    {
     "data": {
      "text/html": [
       "Run data is saved locally in <code>/home/taisei/Desktop/flower-recognition/notebooks/wandb/run-20231211_000436-tdcw8qoq</code>"
      ],
      "text/plain": [
       "<IPython.core.display.HTML object>"
      ]
     },
     "metadata": {},
     "output_type": "display_data"
    },
    {
     "data": {
      "text/html": [
       "Syncing run <strong><a href='https://wandb.ai/chibachann/comparing%20with%20resnet%20models/runs/tdcw8qoq' target=\"_blank\">ResNet34</a></strong> to <a href='https://wandb.ai/chibachann/comparing%20with%20resnet%20models' target=\"_blank\">Weights & Biases</a> (<a href='https://wandb.me/run' target=\"_blank\">docs</a>)<br/>"
      ],
      "text/plain": [
       "<IPython.core.display.HTML object>"
      ]
     },
     "metadata": {},
     "output_type": "display_data"
    },
    {
     "data": {
      "text/html": [
       " View project at <a href='https://wandb.ai/chibachann/comparing%20with%20resnet%20models' target=\"_blank\">https://wandb.ai/chibachann/comparing%20with%20resnet%20models</a>"
      ],
      "text/plain": [
       "<IPython.core.display.HTML object>"
      ]
     },
     "metadata": {},
     "output_type": "display_data"
    },
    {
     "data": {
      "text/html": [
       " View run at <a href='https://wandb.ai/chibachann/comparing%20with%20resnet%20models/runs/tdcw8qoq' target=\"_blank\">https://wandb.ai/chibachann/comparing%20with%20resnet%20models/runs/tdcw8qoq</a>"
      ],
      "text/plain": [
       "<IPython.core.display.HTML object>"
      ]
     },
     "metadata": {},
     "output_type": "display_data"
    },
    {
     "name": "stderr",
     "output_type": "stream",
     "text": [
      "Epoch 1/50, Training...: 100%|██████████| 30/30 [00:10<00:00,  2.75it/s]\n",
      "Epoch 1/50, Validation...: 100%|██████████| 4/4 [00:00<00:00,  4.65it/s]\n"
     ]
    },
    {
     "name": "stdout",
     "output_type": "stream",
     "text": [
      "Epoch 1/50, Train Loss: 1.4058345238367715, Val Loss: 2.0742735266685486, Train Acc: 0.4537966537966538, Val Acc: 0.3819444444444444\n"
     ]
    },
    {
     "name": "stderr",
     "output_type": "stream",
     "text": [
      "Epoch 2/50, Training...: 100%|██████████| 30/30 [00:10<00:00,  2.74it/s]\n",
      "Epoch 2/50, Validation...: 100%|██████████| 4/4 [00:00<00:00,  4.50it/s]\n"
     ]
    },
    {
     "name": "stdout",
     "output_type": "stream",
     "text": [
      "Epoch 2/50, Train Loss: 1.0457108279069265, Val Loss: 1.0105839371681213, Train Acc: 0.5837837837837838, Val Acc: 0.6041666666666666\n"
     ]
    },
    {
     "name": "stderr",
     "output_type": "stream",
     "text": [
      "Epoch 3/50, Training...: 100%|██████████| 30/30 [00:10<00:00,  2.75it/s]\n",
      "Epoch 3/50, Validation...: 100%|██████████| 4/4 [00:00<00:00,  4.68it/s]\n"
     ]
    },
    {
     "name": "stdout",
     "output_type": "stream",
     "text": [
      "Epoch 3/50, Train Loss: 0.9496012489000957, Val Loss: 0.9794148802757263, Train Acc: 0.6229086229086229, Val Acc: 0.6319444444444444\n"
     ]
    },
    {
     "name": "stderr",
     "output_type": "stream",
     "text": [
      "Epoch 4/50, Training...: 100%|██████████| 30/30 [00:10<00:00,  2.74it/s]\n",
      "Epoch 4/50, Validation...: 100%|██████████| 4/4 [00:00<00:00,  4.47it/s]\n"
     ]
    },
    {
     "name": "stdout",
     "output_type": "stream",
     "text": [
      "Epoch 4/50, Train Loss: 0.8972257634003957, Val Loss: 1.0613130778074265, Train Acc: 0.6514800514800515, Val Acc: 0.5925925925925926\n"
     ]
    },
    {
     "name": "stderr",
     "output_type": "stream",
     "text": [
      "Epoch 5/50, Training...: 100%|██████████| 30/30 [00:11<00:00,  2.73it/s]\n",
      "Epoch 5/50, Validation...: 100%|██████████| 4/4 [00:00<00:00,  4.40it/s]\n"
     ]
    },
    {
     "name": "stdout",
     "output_type": "stream",
     "text": [
      "Epoch 5/50, Train Loss: 0.8702125231424968, Val Loss: 0.9653323292732239, Train Acc: 0.6651222651222651, Val Acc: 0.6388888888888888\n"
     ]
    },
    {
     "name": "stderr",
     "output_type": "stream",
     "text": [
      "Epoch 6/50, Training...: 100%|██████████| 30/30 [00:10<00:00,  2.74it/s]\n",
      "Epoch 6/50, Validation...: 100%|██████████| 4/4 [00:00<00:00,  4.43it/s]\n"
     ]
    },
    {
     "name": "stdout",
     "output_type": "stream",
     "text": [
      "Epoch 6/50, Train Loss: 0.7799214740594228, Val Loss: 1.0203675627708435, Train Acc: 0.694980694980695, Val Acc: 0.6388888888888888\n"
     ]
    },
    {
     "name": "stderr",
     "output_type": "stream",
     "text": [
      "Epoch 7/50, Training...: 100%|██████████| 30/30 [00:10<00:00,  2.74it/s]\n",
      "Epoch 7/50, Validation...: 100%|██████████| 4/4 [00:00<00:00,  4.43it/s]\n"
     ]
    },
    {
     "name": "stdout",
     "output_type": "stream",
     "text": [
      "Epoch 7/50, Train Loss: 0.7435941318670909, Val Loss: 0.8150445520877838, Train Acc: 0.7191763191763192, Val Acc: 0.7060185185185185\n"
     ]
    },
    {
     "name": "stderr",
     "output_type": "stream",
     "text": [
      "Epoch 8/50, Training...: 100%|██████████| 30/30 [00:10<00:00,  2.74it/s]\n",
      "Epoch 8/50, Validation...: 100%|██████████| 4/4 [00:00<00:00,  4.52it/s]\n"
     ]
    },
    {
     "name": "stdout",
     "output_type": "stream",
     "text": [
      "Epoch 8/50, Train Loss: 0.7099708626667659, Val Loss: 1.014970988035202, Train Acc: 0.7287001287001287, Val Acc: 0.6712962962962963\n"
     ]
    },
    {
     "name": "stderr",
     "output_type": "stream",
     "text": [
      "Epoch 9/50, Training...: 100%|██████████| 30/30 [00:10<00:00,  2.73it/s]\n",
      "Epoch 9/50, Validation...: 100%|██████████| 4/4 [00:00<00:00,  4.58it/s]\n"
     ]
    },
    {
     "name": "stdout",
     "output_type": "stream",
     "text": [
      "Epoch 9/50, Train Loss: 0.6896029492219289, Val Loss: 1.2940506041049957, Train Acc: 0.7353925353925354, Val Acc: 0.6273148148148148\n"
     ]
    },
    {
     "name": "stderr",
     "output_type": "stream",
     "text": [
      "Epoch 10/50, Training...: 100%|██████████| 30/30 [00:11<00:00,  2.72it/s]\n",
      "Epoch 10/50, Validation...: 100%|██████████| 4/4 [00:00<00:00,  4.43it/s]\n"
     ]
    },
    {
     "name": "stdout",
     "output_type": "stream",
     "text": [
      "Epoch 10/50, Train Loss: 0.6669695635636648, Val Loss: 0.7874937057495117, Train Acc: 0.7392535392535392, Val Acc: 0.7060185185185185\n"
     ]
    },
    {
     "name": "stderr",
     "output_type": "stream",
     "text": [
      "Epoch 11/50, Training...: 100%|██████████| 30/30 [00:10<00:00,  2.74it/s]\n",
      "Epoch 11/50, Validation...: 100%|██████████| 4/4 [00:00<00:00,  4.73it/s]\n"
     ]
    },
    {
     "name": "stdout",
     "output_type": "stream",
     "text": [
      "Epoch 11/50, Train Loss: 0.6437337835629781, Val Loss: 1.5030491352081299, Train Acc: 0.7485199485199485, Val Acc: 0.625\n"
     ]
    },
    {
     "name": "stderr",
     "output_type": "stream",
     "text": [
      "Epoch 12/50, Training...: 100%|██████████| 30/30 [00:10<00:00,  2.73it/s]\n",
      "Epoch 12/50, Validation...: 100%|██████████| 4/4 [00:00<00:00,  4.61it/s]\n"
     ]
    },
    {
     "name": "stdout",
     "output_type": "stream",
     "text": [
      "Epoch 12/50, Train Loss: 0.6143394251664479, Val Loss: 0.8557972311973572, Train Acc: 0.7701415701415701, Val Acc: 0.6875\n"
     ]
    },
    {
     "name": "stderr",
     "output_type": "stream",
     "text": [
      "Epoch 13/50, Training...: 100%|██████████| 30/30 [00:11<00:00,  2.73it/s]\n",
      "Epoch 13/50, Validation...: 100%|██████████| 4/4 [00:00<00:00,  4.59it/s]\n"
     ]
    },
    {
     "name": "stdout",
     "output_type": "stream",
     "text": [
      "Epoch 13/50, Train Loss: 0.5769990374644597, Val Loss: 0.7694890201091766, Train Acc: 0.7758043758043758, Val Acc: 0.7222222222222222\n"
     ]
    },
    {
     "name": "stderr",
     "output_type": "stream",
     "text": [
      "Epoch 14/50, Training...: 100%|██████████| 30/30 [00:10<00:00,  2.73it/s]\n",
      "Epoch 14/50, Validation...: 100%|██████████| 4/4 [00:00<00:00,  4.55it/s]\n"
     ]
    },
    {
     "name": "stdout",
     "output_type": "stream",
     "text": [
      "Epoch 14/50, Train Loss: 0.5456495235363642, Val Loss: 0.7147445678710938, Train Acc: 0.7938223938223938, Val Acc: 0.7199074074074074\n"
     ]
    },
    {
     "name": "stderr",
     "output_type": "stream",
     "text": [
      "Epoch 15/50, Training...: 100%|██████████| 30/30 [00:10<00:00,  2.73it/s]\n",
      "Epoch 15/50, Validation...: 100%|██████████| 4/4 [00:00<00:00,  4.49it/s]\n"
     ]
    },
    {
     "name": "stdout",
     "output_type": "stream",
     "text": [
      "Epoch 15/50, Train Loss: 0.5230931599934896, Val Loss: 0.6691797822713852, Train Acc: 0.8025740025740026, Val Acc: 0.7569444444444444\n"
     ]
    },
    {
     "name": "stderr",
     "output_type": "stream",
     "text": [
      "Epoch 16/50, Training...: 100%|██████████| 30/30 [00:10<00:00,  2.74it/s]\n",
      "Epoch 16/50, Validation...: 100%|██████████| 4/4 [00:00<00:00,  4.63it/s]\n"
     ]
    },
    {
     "name": "stdout",
     "output_type": "stream",
     "text": [
      "Epoch 16/50, Train Loss: 0.5164384712775548, Val Loss: 0.7646140307188034, Train Acc: 0.8064350064350064, Val Acc: 0.7199074074074074\n"
     ]
    },
    {
     "name": "stderr",
     "output_type": "stream",
     "text": [
      "Epoch 17/50, Training...: 100%|██████████| 30/30 [00:10<00:00,  2.73it/s]\n",
      "Epoch 17/50, Validation...: 100%|██████████| 4/4 [00:00<00:00,  4.49it/s]\n"
     ]
    },
    {
     "name": "stdout",
     "output_type": "stream",
     "text": [
      "Epoch 17/50, Train Loss: 0.49034260809421537, Val Loss: 0.7651307433843613, Train Acc: 0.8108108108108109, Val Acc: 0.7291666666666666\n"
     ]
    },
    {
     "name": "stderr",
     "output_type": "stream",
     "text": [
      "Epoch 18/50, Training...: 100%|██████████| 30/30 [00:10<00:00,  2.73it/s]\n",
      "Epoch 18/50, Validation...: 100%|██████████| 4/4 [00:00<00:00,  4.53it/s]\n"
     ]
    },
    {
     "name": "stdout",
     "output_type": "stream",
     "text": [
      "Epoch 18/50, Train Loss: 0.4869459519783656, Val Loss: 0.719318300485611, Train Acc: 0.8205920205920206, Val Acc: 0.7222222222222222\n"
     ]
    },
    {
     "name": "stderr",
     "output_type": "stream",
     "text": [
      "Epoch 19/50, Training...: 100%|██████████| 30/30 [00:10<00:00,  2.74it/s]\n",
      "Epoch 19/50, Validation...: 100%|██████████| 4/4 [00:00<00:00,  4.61it/s]\n"
     ]
    },
    {
     "name": "stdout",
     "output_type": "stream",
     "text": [
      "Epoch 19/50, Train Loss: 0.4711642930905024, Val Loss: 1.0532431900501251, Train Acc: 0.8234234234234235, Val Acc: 0.6689814814814815\n"
     ]
    },
    {
     "name": "stderr",
     "output_type": "stream",
     "text": [
      "Epoch 20/50, Training...: 100%|██████████| 30/30 [00:10<00:00,  2.74it/s]\n",
      "Epoch 20/50, Validation...: 100%|██████████| 4/4 [00:00<00:00,  4.65it/s]\n"
     ]
    },
    {
     "name": "stdout",
     "output_type": "stream",
     "text": [
      "Epoch 20/50, Train Loss: 0.4938978314399719, Val Loss: 0.9243330806493759, Train Acc: 0.8172458172458172, Val Acc: 0.6574074074074074\n"
     ]
    },
    {
     "name": "stderr",
     "output_type": "stream",
     "text": [
      "Epoch 21/50, Training...: 100%|██████████| 30/30 [00:10<00:00,  2.74it/s]\n",
      "Epoch 21/50, Validation...: 100%|██████████| 4/4 [00:00<00:00,  4.58it/s]\n"
     ]
    },
    {
     "name": "stdout",
     "output_type": "stream",
     "text": [
      "Epoch 21/50, Train Loss: 0.436443884174029, Val Loss: 0.6193815097212791, Train Acc: 0.8347490347490347, Val Acc: 0.7754629629629629\n"
     ]
    },
    {
     "name": "stderr",
     "output_type": "stream",
     "text": [
      "Epoch 22/50, Training...: 100%|██████████| 30/30 [00:10<00:00,  2.74it/s]\n",
      "Epoch 22/50, Validation...: 100%|██████████| 4/4 [00:00<00:00,  4.58it/s]\n"
     ]
    },
    {
     "name": "stdout",
     "output_type": "stream",
     "text": [
      "Epoch 22/50, Train Loss: 0.44954630037148796, Val Loss: 0.6340854465961456, Train Acc: 0.8275418275418276, Val Acc: 0.7916666666666666\n"
     ]
    },
    {
     "name": "stderr",
     "output_type": "stream",
     "text": [
      "Epoch 23/50, Training...: 100%|██████████| 30/30 [00:10<00:00,  2.73it/s]\n",
      "Epoch 23/50, Validation...: 100%|██████████| 4/4 [00:00<00:00,  4.46it/s]\n"
     ]
    },
    {
     "name": "stdout",
     "output_type": "stream",
     "text": [
      "Epoch 23/50, Train Loss: 0.40088960230350495, Val Loss: 0.6445313692092896, Train Acc: 0.844015444015444, Val Acc: 0.7708333333333334\n"
     ]
    },
    {
     "name": "stderr",
     "output_type": "stream",
     "text": [
      "Epoch 24/50, Training...: 100%|██████████| 30/30 [00:10<00:00,  2.73it/s]\n",
      "Epoch 24/50, Validation...: 100%|██████████| 4/4 [00:00<00:00,  4.67it/s]\n"
     ]
    },
    {
     "name": "stdout",
     "output_type": "stream",
     "text": [
      "Epoch 24/50, Train Loss: 0.39418215354283653, Val Loss: 0.551721066236496, Train Acc: 0.8465894465894466, Val Acc: 0.8194444444444444\n"
     ]
    },
    {
     "name": "stderr",
     "output_type": "stream",
     "text": [
      "Epoch 25/50, Training...: 100%|██████████| 30/30 [00:10<00:00,  2.74it/s]\n",
      "Epoch 25/50, Validation...: 100%|██████████| 4/4 [00:00<00:00,  4.51it/s]\n"
     ]
    },
    {
     "name": "stdout",
     "output_type": "stream",
     "text": [
      "Epoch 25/50, Train Loss: 0.40048159410556156, Val Loss: 0.7786168158054352, Train Acc: 0.8458172458172458, Val Acc: 0.7129629629629629\n"
     ]
    },
    {
     "name": "stderr",
     "output_type": "stream",
     "text": [
      "Epoch 26/50, Training...: 100%|██████████| 30/30 [00:10<00:00,  2.73it/s]\n",
      "Epoch 26/50, Validation...: 100%|██████████| 4/4 [00:00<00:00,  4.55it/s]\n"
     ]
    },
    {
     "name": "stdout",
     "output_type": "stream",
     "text": [
      "Epoch 26/50, Train Loss: 0.3424526741107305, Val Loss: 0.6019328981637955, Train Acc: 0.8666666666666667, Val Acc: 0.7800925925925926\n"
     ]
    },
    {
     "name": "stderr",
     "output_type": "stream",
     "text": [
      "Epoch 27/50, Training...: 100%|██████████| 30/30 [00:10<00:00,  2.74it/s]\n",
      "Epoch 27/50, Validation...: 100%|██████████| 4/4 [00:00<00:00,  4.54it/s]\n"
     ]
    },
    {
     "name": "stdout",
     "output_type": "stream",
     "text": [
      "Epoch 27/50, Train Loss: 0.3470270266135534, Val Loss: 0.6443625912070274, Train Acc: 0.8671814671814672, Val Acc: 0.7592592592592593\n"
     ]
    },
    {
     "name": "stderr",
     "output_type": "stream",
     "text": [
      "Epoch 28/50, Training...: 100%|██████████| 30/30 [00:10<00:00,  2.74it/s]\n",
      "Epoch 28/50, Validation...: 100%|██████████| 4/4 [00:00<00:00,  4.49it/s]\n"
     ]
    },
    {
     "name": "stdout",
     "output_type": "stream",
     "text": [
      "Epoch 28/50, Train Loss: 0.3536938413977623, Val Loss: 0.6688934713602066, Train Acc: 0.863063063063063, Val Acc: 0.8032407407407407\n"
     ]
    },
    {
     "name": "stderr",
     "output_type": "stream",
     "text": [
      "Epoch 29/50, Training...: 100%|██████████| 30/30 [00:10<00:00,  2.73it/s]\n",
      "Epoch 29/50, Validation...: 100%|██████████| 4/4 [00:00<00:00,  4.62it/s]\n"
     ]
    },
    {
     "name": "stdout",
     "output_type": "stream",
     "text": [
      "Epoch 29/50, Train Loss: 0.3421670198440552, Val Loss: 0.6076811030507088, Train Acc: 0.8646074646074646, Val Acc: 0.7800925925925926\n"
     ]
    },
    {
     "name": "stderr",
     "output_type": "stream",
     "text": [
      "Epoch 30/50, Training...: 100%|██████████| 30/30 [00:10<00:00,  2.73it/s]\n",
      "Epoch 30/50, Validation...: 100%|██████████| 4/4 [00:00<00:00,  4.38it/s]\n"
     ]
    },
    {
     "name": "stdout",
     "output_type": "stream",
     "text": [
      "Epoch 30/50, Train Loss: 0.3331433395544688, Val Loss: 0.8538964539766312, Train Acc: 0.8638352638352639, Val Acc: 0.7060185185185185\n"
     ]
    },
    {
     "name": "stderr",
     "output_type": "stream",
     "text": [
      "Epoch 31/50, Training...: 100%|██████████| 30/30 [00:10<00:00,  2.73it/s]\n",
      "Epoch 31/50, Validation...: 100%|██████████| 4/4 [00:00<00:00,  4.51it/s]\n"
     ]
    },
    {
     "name": "stdout",
     "output_type": "stream",
     "text": [
      "Epoch 31/50, Train Loss: 0.23858379075924555, Val Loss: 0.4343499392271042, Train Acc: 0.9086229086229086, Val Acc: 0.8402777777777778\n"
     ]
    },
    {
     "name": "stderr",
     "output_type": "stream",
     "text": [
      "Epoch 32/50, Training...: 100%|██████████| 30/30 [00:10<00:00,  2.73it/s]\n",
      "Epoch 32/50, Validation...: 100%|██████████| 4/4 [00:00<00:00,  4.59it/s]\n"
     ]
    },
    {
     "name": "stdout",
     "output_type": "stream",
     "text": [
      "Epoch 32/50, Train Loss: 0.18803851554791132, Val Loss: 0.4367671608924866, Train Acc: 0.9294723294723295, Val Acc: 0.8472222222222222\n"
     ]
    },
    {
     "name": "stderr",
     "output_type": "stream",
     "text": [
      "Epoch 33/50, Training...: 100%|██████████| 30/30 [00:10<00:00,  2.73it/s]\n",
      "Epoch 33/50, Validation...: 100%|██████████| 4/4 [00:00<00:00,  4.54it/s]\n"
     ]
    },
    {
     "name": "stdout",
     "output_type": "stream",
     "text": [
      "Epoch 33/50, Train Loss: 0.1691687581439813, Val Loss: 0.42169804126024246, Train Acc: 0.9323037323037323, Val Acc: 0.8518518518518519\n"
     ]
    },
    {
     "name": "stderr",
     "output_type": "stream",
     "text": [
      "Epoch 34/50, Training...: 100%|██████████| 30/30 [00:10<00:00,  2.73it/s]\n",
      "Epoch 34/50, Validation...: 100%|██████████| 4/4 [00:00<00:00,  4.57it/s]\n"
     ]
    },
    {
     "name": "stdout",
     "output_type": "stream",
     "text": [
      "Epoch 34/50, Train Loss: 0.1622075210014979, Val Loss: 0.42625944316387177, Train Acc: 0.9343629343629344, Val Acc: 0.8495370370370371\n"
     ]
    },
    {
     "name": "stderr",
     "output_type": "stream",
     "text": [
      "Epoch 35/50, Training...: 100%|██████████| 30/30 [00:10<00:00,  2.74it/s]\n",
      "Epoch 35/50, Validation...: 100%|██████████| 4/4 [00:00<00:00,  4.60it/s]\n"
     ]
    },
    {
     "name": "stdout",
     "output_type": "stream",
     "text": [
      "Epoch 35/50, Train Loss: 0.14927720775206885, Val Loss: 0.4461371377110481, Train Acc: 0.9397683397683397, Val Acc: 0.8634259259259259\n"
     ]
    },
    {
     "name": "stderr",
     "output_type": "stream",
     "text": [
      "Epoch 36/50, Training...: 100%|██████████| 30/30 [00:10<00:00,  2.74it/s]\n",
      "Epoch 36/50, Validation...: 100%|██████████| 4/4 [00:00<00:00,  4.64it/s]\n"
     ]
    },
    {
     "name": "stdout",
     "output_type": "stream",
     "text": [
      "Epoch 36/50, Train Loss: 0.12945357772211233, Val Loss: 0.460769347846508, Train Acc: 0.9436293436293436, Val Acc: 0.8449074074074074\n"
     ]
    },
    {
     "name": "stderr",
     "output_type": "stream",
     "text": [
      "Epoch 37/50, Training...: 100%|██████████| 30/30 [00:10<00:00,  2.73it/s]\n",
      "Epoch 37/50, Validation...: 100%|██████████| 4/4 [00:00<00:00,  4.65it/s]\n"
     ]
    },
    {
     "name": "stdout",
     "output_type": "stream",
     "text": [
      "Epoch 37/50, Train Loss: 0.12396858893334865, Val Loss: 0.47654224187135696, Train Acc: 0.9467181467181467, Val Acc: 0.8611111111111112\n"
     ]
    },
    {
     "name": "stderr",
     "output_type": "stream",
     "text": [
      "Epoch 38/50, Training...: 100%|██████████| 30/30 [00:10<00:00,  2.73it/s]\n",
      "Epoch 38/50, Validation...: 100%|██████████| 4/4 [00:00<00:00,  4.63it/s]\n"
     ]
    },
    {
     "name": "stdout",
     "output_type": "stream",
     "text": [
      "Epoch 38/50, Train Loss: 0.11706821918487549, Val Loss: 0.48525432497262955, Train Acc: 0.9464607464607465, Val Acc: 0.8657407407407407\n"
     ]
    },
    {
     "name": "stderr",
     "output_type": "stream",
     "text": [
      "Epoch 39/50, Training...: 100%|██████████| 30/30 [00:10<00:00,  2.73it/s]\n",
      "Epoch 39/50, Validation...: 100%|██████████| 4/4 [00:00<00:00,  4.50it/s]\n"
     ]
    },
    {
     "name": "stdout",
     "output_type": "stream",
     "text": [
      "Epoch 39/50, Train Loss: 0.11055426113307476, Val Loss: 0.47660841047763824, Train Acc: 0.9477477477477477, Val Acc: 0.8703703703703703\n"
     ]
    },
    {
     "name": "stderr",
     "output_type": "stream",
     "text": [
      "Epoch 40/50, Training...: 100%|██████████| 30/30 [00:10<00:00,  2.73it/s]\n",
      "Epoch 40/50, Validation...: 100%|██████████| 4/4 [00:00<00:00,  4.77it/s]\n"
     ]
    },
    {
     "name": "stdout",
     "output_type": "stream",
     "text": [
      "Epoch 40/50, Train Loss: 0.10413634901245435, Val Loss: 0.5096715167164803, Train Acc: 0.9523809523809523, Val Acc: 0.8495370370370371\n"
     ]
    },
    {
     "name": "stderr",
     "output_type": "stream",
     "text": [
      "Epoch 41/50, Training...: 100%|██████████| 30/30 [00:10<00:00,  2.73it/s]\n",
      "Epoch 41/50, Validation...: 100%|██████████| 4/4 [00:00<00:00,  4.49it/s]\n"
     ]
    },
    {
     "name": "stdout",
     "output_type": "stream",
     "text": [
      "Epoch 41/50, Train Loss: 0.10072110618154208, Val Loss: 0.5144266709685326, Train Acc: 0.9557271557271557, Val Acc: 0.8587962962962963\n"
     ]
    },
    {
     "name": "stderr",
     "output_type": "stream",
     "text": [
      "Epoch 42/50, Training...: 100%|██████████| 30/30 [00:11<00:00,  2.69it/s]\n",
      "Epoch 42/50, Validation...: 100%|██████████| 4/4 [00:00<00:00,  4.41it/s]\n"
     ]
    },
    {
     "name": "stdout",
     "output_type": "stream",
     "text": [
      "Epoch 42/50, Train Loss: 0.09928503197928269, Val Loss: 0.5105666220188141, Train Acc: 0.9557271557271557, Val Acc: 0.8657407407407407\n"
     ]
    },
    {
     "name": "stderr",
     "output_type": "stream",
     "text": [
      "Epoch 43/50, Training...: 100%|██████████| 30/30 [00:10<00:00,  2.73it/s]\n",
      "Epoch 43/50, Validation...: 100%|██████████| 4/4 [00:00<00:00,  4.52it/s]\n"
     ]
    },
    {
     "name": "stdout",
     "output_type": "stream",
     "text": [
      "Epoch 43/50, Train Loss: 0.0904479380697012, Val Loss: 0.4680328667163849, Train Acc: 0.9619047619047619, Val Acc: 0.8495370370370371\n"
     ]
    },
    {
     "name": "stderr",
     "output_type": "stream",
     "text": [
      "Epoch 44/50, Training...: 100%|██████████| 30/30 [00:10<00:00,  2.73it/s]\n",
      "Epoch 44/50, Validation...: 100%|██████████| 4/4 [00:00<00:00,  4.49it/s]\n"
     ]
    },
    {
     "name": "stdout",
     "output_type": "stream",
     "text": [
      "Epoch 44/50, Train Loss: 0.09720486328005791, Val Loss: 0.4978870525956154, Train Acc: 0.9562419562419563, Val Acc: 0.8680555555555556\n"
     ]
    },
    {
     "name": "stderr",
     "output_type": "stream",
     "text": [
      "Epoch 45/50, Training...: 100%|██████████| 30/30 [00:10<00:00,  2.73it/s]\n",
      "Epoch 45/50, Validation...: 100%|██████████| 4/4 [00:00<00:00,  4.53it/s]\n"
     ]
    },
    {
     "name": "stdout",
     "output_type": "stream",
     "text": [
      "Epoch 45/50, Train Loss: 0.09412297482291858, Val Loss: 0.5161994472146034, Train Acc: 0.955984555984556, Val Acc: 0.8518518518518519\n"
     ]
    },
    {
     "name": "stderr",
     "output_type": "stream",
     "text": [
      "Epoch 46/50, Training...: 100%|██████████| 30/30 [00:10<00:00,  2.74it/s]\n",
      "Epoch 46/50, Validation...: 100%|██████████| 4/4 [00:00<00:00,  4.44it/s]\n"
     ]
    },
    {
     "name": "stdout",
     "output_type": "stream",
     "text": [
      "Epoch 46/50, Train Loss: 0.09040842441221078, Val Loss: 0.4663672521710396, Train Acc: 0.955984555984556, Val Acc: 0.8564814814814815\n"
     ]
    },
    {
     "name": "stderr",
     "output_type": "stream",
     "text": [
      "Epoch 47/50, Training...: 100%|██████████| 30/30 [00:10<00:00,  2.73it/s]\n",
      "Epoch 47/50, Validation...: 100%|██████████| 4/4 [00:00<00:00,  4.75it/s]\n"
     ]
    },
    {
     "name": "stdout",
     "output_type": "stream",
     "text": [
      "Epoch 47/50, Train Loss: 0.08532119939724604, Val Loss: 0.5367645099759102, Train Acc: 0.9616473616473616, Val Acc: 0.8495370370370371\n"
     ]
    },
    {
     "name": "stderr",
     "output_type": "stream",
     "text": [
      "Epoch 48/50, Training...: 100%|██████████| 30/30 [00:10<00:00,  2.74it/s]\n",
      "Epoch 48/50, Validation...: 100%|██████████| 4/4 [00:00<00:00,  4.74it/s]\n"
     ]
    },
    {
     "name": "stdout",
     "output_type": "stream",
     "text": [
      "Epoch 48/50, Train Loss: 0.09415319884816806, Val Loss: 0.47617966681718826, Train Acc: 0.957014157014157, Val Acc: 0.8703703703703703\n"
     ]
    },
    {
     "name": "stderr",
     "output_type": "stream",
     "text": [
      "Epoch 49/50, Training...: 100%|██████████| 30/30 [00:10<00:00,  2.74it/s]\n",
      "Epoch 49/50, Validation...: 100%|██████████| 4/4 [00:00<00:00,  4.57it/s]\n"
     ]
    },
    {
     "name": "stdout",
     "output_type": "stream",
     "text": [
      "Epoch 49/50, Train Loss: 0.08631589909394582, Val Loss: 0.5226010158658028, Train Acc: 0.9619047619047619, Val Acc: 0.8541666666666666\n"
     ]
    },
    {
     "name": "stderr",
     "output_type": "stream",
     "text": [
      "Epoch 50/50, Training...: 100%|██████████| 30/30 [00:10<00:00,  2.73it/s]\n",
      "Epoch 50/50, Validation...: 100%|██████████| 4/4 [00:00<00:00,  4.46it/s]\n"
     ]
    },
    {
     "name": "stdout",
     "output_type": "stream",
     "text": [
      "Epoch 50/50, Train Loss: 0.08713895181814829, Val Loss: 0.5129712074995041, Train Acc: 0.9606177606177606, Val Acc: 0.8611111111111112\n"
     ]
    }
   ],
   "source": [
    "for model, model_name in zip(models, model_names):\n",
    "    wandb.init(project=\"comparing with resnet models\", name = model_name, reinit = True)\n",
    "\n",
    "    criterion = nn.CrossEntropyLoss()\n",
    "    optimizer = torch.optim.Adam(model.parameters(), lr=0.001)\n",
    "    scheduler = ReduceLROnPlateau(optimizer, 'min', patience=5)\n",
    "    num_epochs = 50\n",
    "\n",
    "    model.to(device)\n",
    "    train_losses, val_losses, train_accuracies, val_accuracies = train_and_evaluate_model(model, train_loader, val_loader, criterion, optimizer, num_epochs)\n",
    "\n",
    "    clear_gpu()\n"
   ]
  },
  {
   "cell_type": "code",
   "execution_count": 17,
   "metadata": {},
   "outputs": [
    {
     "data": {
      "text/html": [
       "Finishing last run (ID:r5z5yjvd) before initializing another..."
      ],
      "text/plain": [
       "<IPython.core.display.HTML object>"
      ]
     },
     "metadata": {},
     "output_type": "display_data"
    },
    {
     "name": "stderr",
     "output_type": "stream",
     "text": [
      "wandb: WARNING Source type is set to 'repo' but some required information is missing from the environment. A job will not be created from this run. See https://docs.wandb.ai/guides/launch/create-job\n"
     ]
    },
    {
     "data": {
      "text/html": [
       "<style>\n",
       "    table.wandb td:nth-child(1) { padding: 0 10px; text-align: left ; width: auto;} td:nth-child(2) {text-align: left ; width: 100%}\n",
       "    .wandb-row { display: flex; flex-direction: row; flex-wrap: wrap; justify-content: flex-start; width: 100% }\n",
       "    .wandb-col { display: flex; flex-direction: column; flex-basis: 100%; flex: 1; padding: 10px; }\n",
       "    </style>\n",
       "<div class=\"wandb-row\"><div class=\"wandb-col\"><h3>Run history:</h3><br/><table class=\"wandb\"><tr><td>epoch</td><td>▁▅█</td></tr><tr><td>learning_rate</td><td>▁▁▁</td></tr><tr><td>train_accuracy</td><td>▁▅█</td></tr><tr><td>train_loss</td><td>█▃▁</td></tr><tr><td>val_accuracy</td><td>▁▃█</td></tr><tr><td>val_loss</td><td>▂█▁</td></tr></table><br/></div><div class=\"wandb-col\"><h3>Run summary:</h3><br/><table class=\"wandb\"><tr><td>epoch</td><td>2</td></tr><tr><td>learning_rate</td><td>0.001</td></tr><tr><td>train_accuracy</td><td>0.87671</td></tr><tr><td>train_loss</td><td>0.32667</td></tr><tr><td>val_accuracy</td><td>0.80324</td></tr><tr><td>val_loss</td><td>0.57277</td></tr></table><br/></div></div>"
      ],
      "text/plain": [
       "<IPython.core.display.HTML object>"
      ]
     },
     "metadata": {},
     "output_type": "display_data"
    },
    {
     "data": {
      "text/html": [
       " View run <strong style=\"color:#cdcd00\">ResNet50</strong> at: <a href='https://wandb.ai/chibachann/comparing%20with%20resnet%20models/runs/r5z5yjvd' target=\"_blank\">https://wandb.ai/chibachann/comparing%20with%20resnet%20models/runs/r5z5yjvd</a><br/>Synced 6 W&B file(s), 0 media file(s), 0 artifact file(s) and 0 other file(s)"
      ],
      "text/plain": [
       "<IPython.core.display.HTML object>"
      ]
     },
     "metadata": {},
     "output_type": "display_data"
    },
    {
     "data": {
      "text/html": [
       "Find logs at: <code>./wandb/run-20231211_001750-r5z5yjvd/logs</code>"
      ],
      "text/plain": [
       "<IPython.core.display.HTML object>"
      ]
     },
     "metadata": {},
     "output_type": "display_data"
    },
    {
     "data": {
      "text/html": [
       "Successfully finished last run (ID:r5z5yjvd). Initializing new run:<br/>"
      ],
      "text/plain": [
       "<IPython.core.display.HTML object>"
      ]
     },
     "metadata": {},
     "output_type": "display_data"
    },
    {
     "data": {
      "text/html": [
       "Tracking run with wandb version 0.16.1"
      ],
      "text/plain": [
       "<IPython.core.display.HTML object>"
      ]
     },
     "metadata": {},
     "output_type": "display_data"
    },
    {
     "data": {
      "text/html": [
       "Run data is saved locally in <code>/home/taisei/Desktop/flower-recognition/notebooks/wandb/run-20231211_001900-el7o4lff</code>"
      ],
      "text/plain": [
       "<IPython.core.display.HTML object>"
      ]
     },
     "metadata": {},
     "output_type": "display_data"
    },
    {
     "data": {
      "text/html": [
       "Syncing run <strong><a href='https://wandb.ai/chibachann/comparing%20with%20resnet%20models/runs/el7o4lff' target=\"_blank\">ResNet50</a></strong> to <a href='https://wandb.ai/chibachann/comparing%20with%20resnet%20models' target=\"_blank\">Weights & Biases</a> (<a href='https://wandb.me/run' target=\"_blank\">docs</a>)<br/>"
      ],
      "text/plain": [
       "<IPython.core.display.HTML object>"
      ]
     },
     "metadata": {},
     "output_type": "display_data"
    },
    {
     "data": {
      "text/html": [
       " View project at <a href='https://wandb.ai/chibachann/comparing%20with%20resnet%20models' target=\"_blank\">https://wandb.ai/chibachann/comparing%20with%20resnet%20models</a>"
      ],
      "text/plain": [
       "<IPython.core.display.HTML object>"
      ]
     },
     "metadata": {},
     "output_type": "display_data"
    },
    {
     "data": {
      "text/html": [
       " View run at <a href='https://wandb.ai/chibachann/comparing%20with%20resnet%20models/runs/el7o4lff' target=\"_blank\">https://wandb.ai/chibachann/comparing%20with%20resnet%20models/runs/el7o4lff</a>"
      ],
      "text/plain": [
       "<IPython.core.display.HTML object>"
      ]
     },
     "metadata": {},
     "output_type": "display_data"
    },
    {
     "name": "stderr",
     "output_type": "stream",
     "text": [
      "Epoch 1/50, Training...: 100%|██████████| 30/30 [00:16<00:00,  1.84it/s]\n",
      "Epoch 1/50, Validation...: 100%|██████████| 4/4 [00:01<00:00,  3.48it/s]\n"
     ]
    },
    {
     "name": "stdout",
     "output_type": "stream",
     "text": [
      "Epoch 1/50, Train Loss: 1.4768320202827454, Val Loss: 1.3926225304603577, Train Acc: 0.4404118404118404, Val Acc: 0.5\n"
     ]
    },
    {
     "name": "stderr",
     "output_type": "stream",
     "text": [
      "Epoch 2/50, Training...: 100%|██████████| 30/30 [00:19<00:00,  1.57it/s]\n",
      "Epoch 2/50, Validation...: 100%|██████████| 4/4 [00:01<00:00,  3.67it/s]\n"
     ]
    },
    {
     "name": "stdout",
     "output_type": "stream",
     "text": [
      "Epoch 2/50, Train Loss: 1.06245818734169, Val Loss: 1.1136125326156616, Train Acc: 0.5683397683397683, Val Acc: 0.5787037037037037\n"
     ]
    },
    {
     "name": "stderr",
     "output_type": "stream",
     "text": [
      "Epoch 3/50, Training...: 100%|██████████| 30/30 [00:19<00:00,  1.56it/s]\n",
      "Epoch 3/50, Validation...: 100%|██████████| 4/4 [00:01<00:00,  3.61it/s]\n"
     ]
    },
    {
     "name": "stdout",
     "output_type": "stream",
     "text": [
      "Epoch 3/50, Train Loss: 0.9902609944343567, Val Loss: 1.0203275233507156, Train Acc: 0.6059202059202059, Val Acc: 0.5763888888888888\n"
     ]
    },
    {
     "name": "stderr",
     "output_type": "stream",
     "text": [
      "Epoch 4/50, Training...: 100%|██████████| 30/30 [00:19<00:00,  1.58it/s]\n",
      "Epoch 4/50, Validation...: 100%|██████████| 4/4 [00:01<00:00,  3.52it/s]\n"
     ]
    },
    {
     "name": "stdout",
     "output_type": "stream",
     "text": [
      "Epoch 4/50, Train Loss: 0.9156802972157796, Val Loss: 1.0104168206453323, Train Acc: 0.6386100386100386, Val Acc: 0.6365740740740741\n"
     ]
    },
    {
     "name": "stderr",
     "output_type": "stream",
     "text": [
      "Epoch 5/50, Training...: 100%|██████████| 30/30 [00:19<00:00,  1.57it/s]\n",
      "Epoch 5/50, Validation...: 100%|██████████| 4/4 [00:01<00:00,  3.59it/s]\n"
     ]
    },
    {
     "name": "stdout",
     "output_type": "stream",
     "text": [
      "Epoch 5/50, Train Loss: 0.8667009472846985, Val Loss: 0.9625342339277267, Train Acc: 0.6550836550836551, Val Acc: 0.6666666666666666\n"
     ]
    },
    {
     "name": "stderr",
     "output_type": "stream",
     "text": [
      "Epoch 6/50, Training...: 100%|██████████| 30/30 [00:19<00:00,  1.56it/s]\n",
      "Epoch 6/50, Validation...: 100%|██████████| 4/4 [00:01<00:00,  3.59it/s]\n"
     ]
    },
    {
     "name": "stdout",
     "output_type": "stream",
     "text": [
      "Epoch 6/50, Train Loss: 0.8113372226556143, Val Loss: 0.9582740217447281, Train Acc: 0.684942084942085, Val Acc: 0.6527777777777778\n"
     ]
    },
    {
     "name": "stderr",
     "output_type": "stream",
     "text": [
      "Epoch 7/50, Training...: 100%|██████████| 30/30 [00:19<00:00,  1.57it/s]\n",
      "Epoch 7/50, Validation...: 100%|██████████| 4/4 [00:01<00:00,  3.61it/s]\n"
     ]
    },
    {
     "name": "stdout",
     "output_type": "stream",
     "text": [
      "Epoch 7/50, Train Loss: 0.731720091899236, Val Loss: 0.8320799618959427, Train Acc: 0.7148005148005148, Val Acc: 0.6782407407407407\n"
     ]
    },
    {
     "name": "stderr",
     "output_type": "stream",
     "text": [
      "Epoch 8/50, Training...: 100%|██████████| 30/30 [00:19<00:00,  1.57it/s]\n",
      "Epoch 8/50, Validation...: 100%|██████████| 4/4 [00:01<00:00,  3.80it/s]\n"
     ]
    },
    {
     "name": "stdout",
     "output_type": "stream",
     "text": [
      "Epoch 8/50, Train Loss: 0.675537129243215, Val Loss: 0.7238332480192184, Train Acc: 0.7454311454311454, Val Acc: 0.7152777777777778\n"
     ]
    },
    {
     "name": "stderr",
     "output_type": "stream",
     "text": [
      "Epoch 9/50, Training...: 100%|██████████| 30/30 [00:19<00:00,  1.56it/s]\n",
      "Epoch 9/50, Validation...: 100%|██████████| 4/4 [00:01<00:00,  3.64it/s]\n"
     ]
    },
    {
     "name": "stdout",
     "output_type": "stream",
     "text": [
      "Epoch 9/50, Train Loss: 0.6518267452716827, Val Loss: 0.7952589392662048, Train Acc: 0.7454311454311454, Val Acc: 0.6990740740740741\n"
     ]
    },
    {
     "name": "stderr",
     "output_type": "stream",
     "text": [
      "Epoch 10/50, Training...: 100%|██████████| 30/30 [00:19<00:00,  1.56it/s]\n",
      "Epoch 10/50, Validation...: 100%|██████████| 4/4 [00:01<00:00,  3.51it/s]\n"
     ]
    },
    {
     "name": "stdout",
     "output_type": "stream",
     "text": [
      "Epoch 10/50, Train Loss: 0.6462362200021744, Val Loss: 0.9782685339450836, Train Acc: 0.7526383526383527, Val Acc: 0.6851851851851852\n"
     ]
    },
    {
     "name": "stderr",
     "output_type": "stream",
     "text": [
      "Epoch 11/50, Training...: 100%|██████████| 30/30 [00:19<00:00,  1.56it/s]\n",
      "Epoch 11/50, Validation...: 100%|██████████| 4/4 [00:01<00:00,  3.62it/s]\n"
     ]
    },
    {
     "name": "stdout",
     "output_type": "stream",
     "text": [
      "Epoch 11/50, Train Loss: 0.6305152138074239, Val Loss: 0.7042934820055962, Train Acc: 0.759073359073359, Val Acc: 0.7245370370370371\n"
     ]
    },
    {
     "name": "stderr",
     "output_type": "stream",
     "text": [
      "Epoch 12/50, Training...: 100%|██████████| 30/30 [00:19<00:00,  1.56it/s]\n",
      "Epoch 12/50, Validation...: 100%|██████████| 4/4 [00:01<00:00,  3.51it/s]\n"
     ]
    },
    {
     "name": "stdout",
     "output_type": "stream",
     "text": [
      "Epoch 12/50, Train Loss: 0.5741536676883697, Val Loss: 0.7643644511699677, Train Acc: 0.7768339768339768, Val Acc: 0.7314814814814815\n"
     ]
    },
    {
     "name": "stderr",
     "output_type": "stream",
     "text": [
      "Epoch 13/50, Training...: 100%|██████████| 30/30 [00:19<00:00,  1.57it/s]\n",
      "Epoch 13/50, Validation...: 100%|██████████| 4/4 [00:01<00:00,  3.48it/s]\n"
     ]
    },
    {
     "name": "stdout",
     "output_type": "stream",
     "text": [
      "Epoch 13/50, Train Loss: 0.5634139845768611, Val Loss: 0.7828817069530487, Train Acc: 0.7824967824967825, Val Acc: 0.7106481481481481\n"
     ]
    },
    {
     "name": "stderr",
     "output_type": "stream",
     "text": [
      "Epoch 14/50, Training...: 100%|██████████| 30/30 [00:19<00:00,  1.55it/s]\n",
      "Epoch 14/50, Validation...: 100%|██████████| 4/4 [00:01<00:00,  3.56it/s]\n"
     ]
    },
    {
     "name": "stdout",
     "output_type": "stream",
     "text": [
      "Epoch 14/50, Train Loss: 0.5336840858062109, Val Loss: 0.6082468330860138, Train Acc: 0.7984555984555984, Val Acc: 0.7662037037037037\n"
     ]
    },
    {
     "name": "stderr",
     "output_type": "stream",
     "text": [
      "Epoch 15/50, Training...: 100%|██████████| 30/30 [00:19<00:00,  1.56it/s]\n",
      "Epoch 15/50, Validation...: 100%|██████████| 4/4 [00:01<00:00,  3.53it/s]\n"
     ]
    },
    {
     "name": "stdout",
     "output_type": "stream",
     "text": [
      "Epoch 15/50, Train Loss: 0.5415989547967911, Val Loss: 0.6731572672724724, Train Acc: 0.7938223938223938, Val Acc: 0.7592592592592593\n"
     ]
    },
    {
     "name": "stderr",
     "output_type": "stream",
     "text": [
      "Epoch 16/50, Training...: 100%|██████████| 30/30 [00:19<00:00,  1.56it/s]\n",
      "Epoch 16/50, Validation...: 100%|██████████| 4/4 [00:01<00:00,  3.53it/s]\n"
     ]
    },
    {
     "name": "stdout",
     "output_type": "stream",
     "text": [
      "Epoch 16/50, Train Loss: 0.48399243454138435, Val Loss: 0.6636957228183746, Train Acc: 0.8172458172458172, Val Acc: 0.7685185185185185\n"
     ]
    },
    {
     "name": "stderr",
     "output_type": "stream",
     "text": [
      "Epoch 17/50, Training...: 100%|██████████| 30/30 [00:19<00:00,  1.57it/s]\n",
      "Epoch 17/50, Validation...: 100%|██████████| 4/4 [00:01<00:00,  3.54it/s]\n"
     ]
    },
    {
     "name": "stdout",
     "output_type": "stream",
     "text": [
      "Epoch 17/50, Train Loss: 0.4835382401943207, Val Loss: 0.826587401330471, Train Acc: 0.8164736164736165, Val Acc: 0.7222222222222222\n"
     ]
    },
    {
     "name": "stderr",
     "output_type": "stream",
     "text": [
      "Epoch 18/50, Training...: 100%|██████████| 30/30 [00:19<00:00,  1.56it/s]\n",
      "Epoch 18/50, Validation...: 100%|██████████| 4/4 [00:01<00:00,  3.57it/s]\n"
     ]
    },
    {
     "name": "stdout",
     "output_type": "stream",
     "text": [
      "Epoch 18/50, Train Loss: 0.4719353824853897, Val Loss: 0.8424388468265533, Train Acc: 0.8229086229086229, Val Acc: 0.7106481481481481\n"
     ]
    },
    {
     "name": "stderr",
     "output_type": "stream",
     "text": [
      "Epoch 19/50, Training...: 100%|██████████| 30/30 [00:19<00:00,  1.57it/s]\n",
      "Epoch 19/50, Validation...: 100%|██████████| 4/4 [00:01<00:00,  3.49it/s]\n"
     ]
    },
    {
     "name": "stdout",
     "output_type": "stream",
     "text": [
      "Epoch 19/50, Train Loss: 0.452581258614858, Val Loss: 0.7160898596048355, Train Acc: 0.8231660231660232, Val Acc: 0.7430555555555556\n"
     ]
    },
    {
     "name": "stderr",
     "output_type": "stream",
     "text": [
      "Epoch 20/50, Training...: 100%|██████████| 30/30 [00:19<00:00,  1.55it/s]\n",
      "Epoch 20/50, Validation...: 100%|██████████| 4/4 [00:01<00:00,  3.61it/s]\n"
     ]
    },
    {
     "name": "stdout",
     "output_type": "stream",
     "text": [
      "Epoch 20/50, Train Loss: 0.41424696097771324, Val Loss: 0.5550869926810265, Train Acc: 0.8398970398970399, Val Acc: 0.7986111111111112\n"
     ]
    },
    {
     "name": "stderr",
     "output_type": "stream",
     "text": [
      "Epoch 21/50, Training...: 100%|██████████| 30/30 [00:19<00:00,  1.56it/s]\n",
      "Epoch 21/50, Validation...: 100%|██████████| 4/4 [00:01<00:00,  3.60it/s]\n"
     ]
    },
    {
     "name": "stdout",
     "output_type": "stream",
     "text": [
      "Epoch 21/50, Train Loss: 0.42888030807177224, Val Loss: 0.8924375176429749, Train Acc: 0.8365508365508365, Val Acc: 0.7222222222222222\n"
     ]
    },
    {
     "name": "stderr",
     "output_type": "stream",
     "text": [
      "Epoch 22/50, Training...: 100%|██████████| 30/30 [00:19<00:00,  1.57it/s]\n",
      "Epoch 22/50, Validation...: 100%|██████████| 4/4 [00:01<00:00,  3.51it/s]\n"
     ]
    },
    {
     "name": "stdout",
     "output_type": "stream",
     "text": [
      "Epoch 22/50, Train Loss: 0.4019816190004349, Val Loss: 0.7581721022725105, Train Acc: 0.8414414414414414, Val Acc: 0.7222222222222222\n"
     ]
    },
    {
     "name": "stderr",
     "output_type": "stream",
     "text": [
      "Epoch 23/50, Training...: 100%|██████████| 30/30 [00:19<00:00,  1.55it/s]\n",
      "Epoch 23/50, Validation...: 100%|██████████| 4/4 [00:01<00:00,  3.50it/s]\n"
     ]
    },
    {
     "name": "stdout",
     "output_type": "stream",
     "text": [
      "Epoch 23/50, Train Loss: 0.3855775654315948, Val Loss: 0.8084002286195755, Train Acc: 0.851994851994852, Val Acc: 0.7245370370370371\n"
     ]
    },
    {
     "name": "stderr",
     "output_type": "stream",
     "text": [
      "Epoch 24/50, Training...: 100%|██████████| 30/30 [00:19<00:00,  1.57it/s]\n",
      "Epoch 24/50, Validation...: 100%|██████████| 4/4 [00:01<00:00,  3.57it/s]\n"
     ]
    },
    {
     "name": "stdout",
     "output_type": "stream",
     "text": [
      "Epoch 24/50, Train Loss: 0.3838033104936282, Val Loss: 1.3137472718954086, Train Acc: 0.8491634491634492, Val Acc: 0.6712962962962963\n"
     ]
    },
    {
     "name": "stderr",
     "output_type": "stream",
     "text": [
      "Epoch 25/50, Training...: 100%|██████████| 30/30 [00:19<00:00,  1.56it/s]\n",
      "Epoch 25/50, Validation...: 100%|██████████| 4/4 [00:01<00:00,  3.59it/s]\n"
     ]
    },
    {
     "name": "stdout",
     "output_type": "stream",
     "text": [
      "Epoch 25/50, Train Loss: 0.3948502312103907, Val Loss: 0.7870016247034073, Train Acc: 0.8491634491634492, Val Acc: 0.7268518518518519\n"
     ]
    },
    {
     "name": "stderr",
     "output_type": "stream",
     "text": [
      "Epoch 26/50, Training...: 100%|██████████| 30/30 [00:19<00:00,  1.57it/s]\n",
      "Epoch 26/50, Validation...: 100%|██████████| 4/4 [00:01<00:00,  3.44it/s]\n"
     ]
    },
    {
     "name": "stdout",
     "output_type": "stream",
     "text": [
      "Epoch 26/50, Train Loss: 0.3618596464395523, Val Loss: 1.0610949844121933, Train Acc: 0.858944658944659, Val Acc: 0.6898148148148148\n"
     ]
    },
    {
     "name": "stderr",
     "output_type": "stream",
     "text": [
      "Epoch 27/50, Training...: 100%|██████████| 30/30 [00:19<00:00,  1.55it/s]\n",
      "Epoch 27/50, Validation...: 100%|██████████| 4/4 [00:01<00:00,  3.55it/s]\n"
     ]
    },
    {
     "name": "stdout",
     "output_type": "stream",
     "text": [
      "Epoch 27/50, Train Loss: 0.26633294522762296, Val Loss: 0.4973393902182579, Train Acc: 0.9016731016731017, Val Acc: 0.8263888888888888\n"
     ]
    },
    {
     "name": "stderr",
     "output_type": "stream",
     "text": [
      "Epoch 28/50, Training...: 100%|██████████| 30/30 [00:19<00:00,  1.56it/s]\n",
      "Epoch 28/50, Validation...: 100%|██████████| 4/4 [00:01<00:00,  3.63it/s]\n"
     ]
    },
    {
     "name": "stdout",
     "output_type": "stream",
     "text": [
      "Epoch 28/50, Train Loss: 0.2061559225122134, Val Loss: 0.5174335315823555, Train Acc: 0.9184041184041184, Val Acc: 0.8125\n"
     ]
    },
    {
     "name": "stderr",
     "output_type": "stream",
     "text": [
      "Epoch 29/50, Training...: 100%|██████████| 30/30 [00:19<00:00,  1.55it/s]\n",
      "Epoch 29/50, Validation...: 100%|██████████| 4/4 [00:01<00:00,  3.51it/s]\n"
     ]
    },
    {
     "name": "stdout",
     "output_type": "stream",
     "text": [
      "Epoch 29/50, Train Loss: 0.17901509503523508, Val Loss: 0.5351868271827698, Train Acc: 0.9302445302445302, Val Acc: 0.8217592592592593\n"
     ]
    },
    {
     "name": "stderr",
     "output_type": "stream",
     "text": [
      "Epoch 30/50, Training...: 100%|██████████| 30/30 [00:19<00:00,  1.56it/s]\n",
      "Epoch 30/50, Validation...: 100%|██████████| 4/4 [00:01<00:00,  3.61it/s]\n"
     ]
    },
    {
     "name": "stdout",
     "output_type": "stream",
     "text": [
      "Epoch 30/50, Train Loss: 0.1572857474287351, Val Loss: 0.5256568565964699, Train Acc: 0.94002574002574, Val Acc: 0.8171296296296297\n"
     ]
    },
    {
     "name": "stderr",
     "output_type": "stream",
     "text": [
      "Epoch 31/50, Training...: 100%|██████████| 30/30 [00:19<00:00,  1.55it/s]\n",
      "Epoch 31/50, Validation...: 100%|██████████| 4/4 [00:01<00:00,  3.46it/s]\n"
     ]
    },
    {
     "name": "stdout",
     "output_type": "stream",
     "text": [
      "Epoch 31/50, Train Loss: 0.14842866038282712, Val Loss: 0.5077928863465786, Train Acc: 0.9369369369369369, Val Acc: 0.8194444444444444\n"
     ]
    },
    {
     "name": "stderr",
     "output_type": "stream",
     "text": [
      "Epoch 32/50, Training...: 100%|██████████| 30/30 [00:19<00:00,  1.57it/s]\n",
      "Epoch 32/50, Validation...: 100%|██████████| 4/4 [00:01<00:00,  3.65it/s]\n"
     ]
    },
    {
     "name": "stdout",
     "output_type": "stream",
     "text": [
      "Epoch 32/50, Train Loss: 0.13160198430220285, Val Loss: 0.5837535560131073, Train Acc: 0.9449163449163449, Val Acc: 0.8171296296296297\n"
     ]
    },
    {
     "name": "stderr",
     "output_type": "stream",
     "text": [
      "Epoch 33/50, Training...: 100%|██████████| 30/30 [00:19<00:00,  1.55it/s]\n",
      "Epoch 33/50, Validation...: 100%|██████████| 4/4 [00:01<00:00,  3.52it/s]\n"
     ]
    },
    {
     "name": "stdout",
     "output_type": "stream",
     "text": [
      "Epoch 33/50, Train Loss: 0.12674787864089013, Val Loss: 0.5260603129863739, Train Acc: 0.9441441441441442, Val Acc: 0.8310185185185185\n"
     ]
    },
    {
     "name": "stderr",
     "output_type": "stream",
     "text": [
      "Epoch 34/50, Training...: 100%|██████████| 30/30 [00:19<00:00,  1.55it/s]\n",
      "Epoch 34/50, Validation...: 100%|██████████| 4/4 [00:01<00:00,  3.51it/s]\n"
     ]
    },
    {
     "name": "stdout",
     "output_type": "stream",
     "text": [
      "Epoch 34/50, Train Loss: 0.11090383889774481, Val Loss: 0.5974362269043922, Train Acc: 0.9523809523809523, Val Acc: 0.8240740740740741\n"
     ]
    },
    {
     "name": "stderr",
     "output_type": "stream",
     "text": [
      "Epoch 35/50, Training...: 100%|██████████| 30/30 [00:19<00:00,  1.56it/s]\n",
      "Epoch 35/50, Validation...: 100%|██████████| 4/4 [00:01<00:00,  3.59it/s]\n"
     ]
    },
    {
     "name": "stdout",
     "output_type": "stream",
     "text": [
      "Epoch 35/50, Train Loss: 0.10646685113509496, Val Loss: 0.5881409794092178, Train Acc: 0.9513513513513514, Val Acc: 0.8148148148148148\n"
     ]
    },
    {
     "name": "stderr",
     "output_type": "stream",
     "text": [
      "Epoch 36/50, Training...: 100%|██████████| 30/30 [00:19<00:00,  1.56it/s]\n",
      "Epoch 36/50, Validation...: 100%|██████████| 4/4 [00:01<00:00,  3.57it/s]\n"
     ]
    },
    {
     "name": "stdout",
     "output_type": "stream",
     "text": [
      "Epoch 36/50, Train Loss: 0.1046929602821668, Val Loss: 0.6409536004066467, Train Acc: 0.9546975546975547, Val Acc: 0.8240740740740741\n"
     ]
    },
    {
     "name": "stderr",
     "output_type": "stream",
     "text": [
      "Epoch 37/50, Training...: 100%|██████████| 30/30 [00:19<00:00,  1.56it/s]\n",
      "Epoch 37/50, Validation...: 100%|██████████| 4/4 [00:01<00:00,  3.52it/s]\n"
     ]
    },
    {
     "name": "stdout",
     "output_type": "stream",
     "text": [
      "Epoch 37/50, Train Loss: 0.10263388653596242, Val Loss: 0.596254974603653, Train Acc: 0.9539253539253539, Val Acc: 0.8217592592592593\n"
     ]
    },
    {
     "name": "stderr",
     "output_type": "stream",
     "text": [
      "Epoch 38/50, Training...: 100%|██████████| 30/30 [00:19<00:00,  1.57it/s]\n",
      "Epoch 38/50, Validation...: 100%|██████████| 4/4 [00:01<00:00,  3.53it/s]\n"
     ]
    },
    {
     "name": "stdout",
     "output_type": "stream",
     "text": [
      "Epoch 38/50, Train Loss: 0.10060004331171513, Val Loss: 0.6046788170933723, Train Acc: 0.9546975546975547, Val Acc: 0.8333333333333334\n"
     ]
    },
    {
     "name": "stderr",
     "output_type": "stream",
     "text": [
      "Epoch 39/50, Training...: 100%|██████████| 30/30 [00:19<00:00,  1.55it/s]\n",
      "Epoch 39/50, Validation...: 100%|██████████| 4/4 [00:01<00:00,  3.61it/s]\n"
     ]
    },
    {
     "name": "stdout",
     "output_type": "stream",
     "text": [
      "Epoch 39/50, Train Loss: 0.09485023704667886, Val Loss: 0.5516270399093628, Train Acc: 0.9580437580437581, Val Acc: 0.8217592592592593\n"
     ]
    },
    {
     "name": "stderr",
     "output_type": "stream",
     "text": [
      "Epoch 40/50, Training...: 100%|██████████| 30/30 [00:19<00:00,  1.56it/s]\n",
      "Epoch 40/50, Validation...: 100%|██████████| 4/4 [00:01<00:00,  3.51it/s]\n"
     ]
    },
    {
     "name": "stdout",
     "output_type": "stream",
     "text": [
      "Epoch 40/50, Train Loss: 0.09235230349004268, Val Loss: 0.5549507066607475, Train Acc: 0.9588159588159588, Val Acc: 0.8171296296296297\n"
     ]
    },
    {
     "name": "stderr",
     "output_type": "stream",
     "text": [
      "Epoch 41/50, Training...: 100%|██████████| 30/30 [00:19<00:00,  1.57it/s]\n",
      "Epoch 41/50, Validation...: 100%|██████████| 4/4 [00:01<00:00,  3.55it/s]\n"
     ]
    },
    {
     "name": "stdout",
     "output_type": "stream",
     "text": [
      "Epoch 41/50, Train Loss: 0.08988174994786581, Val Loss: 0.5951098278164864, Train Acc: 0.9593307593307593, Val Acc: 0.8240740740740741\n"
     ]
    },
    {
     "name": "stderr",
     "output_type": "stream",
     "text": [
      "Epoch 42/50, Training...: 100%|██████████| 30/30 [00:19<00:00,  1.56it/s]\n",
      "Epoch 42/50, Validation...: 100%|██████████| 4/4 [00:01<00:00,  3.50it/s]\n"
     ]
    },
    {
     "name": "stdout",
     "output_type": "stream",
     "text": [
      "Epoch 42/50, Train Loss: 0.09486698433756828, Val Loss: 0.6011862903833389, Train Acc: 0.9580437580437581, Val Acc: 0.8194444444444444\n"
     ]
    },
    {
     "name": "stderr",
     "output_type": "stream",
     "text": [
      "Epoch 43/50, Training...: 100%|██████████| 30/30 [00:19<00:00,  1.56it/s]\n",
      "Epoch 43/50, Validation...: 100%|██████████| 4/4 [00:01<00:00,  3.50it/s]\n"
     ]
    },
    {
     "name": "stdout",
     "output_type": "stream",
     "text": [
      "Epoch 43/50, Train Loss: 0.09457072367270787, Val Loss: 0.5501200519502163, Train Acc: 0.9567567567567568, Val Acc: 0.8333333333333334\n"
     ]
    },
    {
     "name": "stderr",
     "output_type": "stream",
     "text": [
      "Epoch 44/50, Training...: 100%|██████████| 30/30 [00:19<00:00,  1.55it/s]\n",
      "Epoch 44/50, Validation...: 100%|██████████| 4/4 [00:01<00:00,  3.57it/s]\n"
     ]
    },
    {
     "name": "stdout",
     "output_type": "stream",
     "text": [
      "Epoch 44/50, Train Loss: 0.09497160824636618, Val Loss: 0.6002047434449196, Train Acc: 0.9567567567567568, Val Acc: 0.8171296296296297\n"
     ]
    },
    {
     "name": "stderr",
     "output_type": "stream",
     "text": [
      "Epoch 45/50, Training...: 100%|██████████| 30/30 [00:19<00:00,  1.56it/s]\n",
      "Epoch 45/50, Validation...: 100%|██████████| 4/4 [00:01<00:00,  3.61it/s]\n"
     ]
    },
    {
     "name": "stdout",
     "output_type": "stream",
     "text": [
      "Epoch 45/50, Train Loss: 0.09717674851417542, Val Loss: 0.5782503187656403, Train Acc: 0.9580437580437581, Val Acc: 0.8287037037037037\n"
     ]
    },
    {
     "name": "stderr",
     "output_type": "stream",
     "text": [
      "Epoch 46/50, Training...: 100%|██████████| 30/30 [00:19<00:00,  1.57it/s]\n",
      "Epoch 46/50, Validation...: 100%|██████████| 4/4 [00:01<00:00,  3.58it/s]\n"
     ]
    },
    {
     "name": "stdout",
     "output_type": "stream",
     "text": [
      "Epoch 46/50, Train Loss: 0.0973987693587939, Val Loss: 0.5947964191436768, Train Acc: 0.9544401544401544, Val Acc: 0.8333333333333334\n"
     ]
    },
    {
     "name": "stderr",
     "output_type": "stream",
     "text": [
      "Epoch 47/50, Training...: 100%|██████████| 30/30 [00:19<00:00,  1.57it/s]\n",
      "Epoch 47/50, Validation...: 100%|██████████| 4/4 [00:01<00:00,  3.46it/s]\n"
     ]
    },
    {
     "name": "stdout",
     "output_type": "stream",
     "text": [
      "Epoch 47/50, Train Loss: 0.09108283507327239, Val Loss: 0.6223746836185455, Train Acc: 0.9590733590733591, Val Acc: 0.8287037037037037\n"
     ]
    },
    {
     "name": "stderr",
     "output_type": "stream",
     "text": [
      "Epoch 48/50, Training...: 100%|██████████| 30/30 [00:19<00:00,  1.56it/s]\n",
      "Epoch 48/50, Validation...: 100%|██████████| 4/4 [00:01<00:00,  3.64it/s]\n"
     ]
    },
    {
     "name": "stdout",
     "output_type": "stream",
     "text": [
      "Epoch 48/50, Train Loss: 0.09334098224838575, Val Loss: 0.5682697035372257, Train Acc: 0.9575289575289575, Val Acc: 0.8194444444444444\n"
     ]
    },
    {
     "name": "stderr",
     "output_type": "stream",
     "text": [
      "Epoch 49/50, Training...: 100%|██████████| 30/30 [00:19<00:00,  1.56it/s]\n",
      "Epoch 49/50, Validation...: 100%|██████████| 4/4 [00:01<00:00,  3.68it/s]\n"
     ]
    },
    {
     "name": "stdout",
     "output_type": "stream",
     "text": [
      "Epoch 49/50, Train Loss: 0.08603931019703547, Val Loss: 0.611153319478035, Train Acc: 0.9619047619047619, Val Acc: 0.8240740740740741\n"
     ]
    },
    {
     "name": "stderr",
     "output_type": "stream",
     "text": [
      "Epoch 50/50, Training...: 100%|██████████| 30/30 [00:19<00:00,  1.56it/s]\n",
      "Epoch 50/50, Validation...: 100%|██████████| 4/4 [00:01<00:00,  3.52it/s]\n"
     ]
    },
    {
     "name": "stdout",
     "output_type": "stream",
     "text": [
      "Epoch 50/50, Train Loss: 0.08614380694925786, Val Loss: 0.6263664811849594, Train Acc: 0.963963963963964, Val Acc: 0.8101851851851852\n"
     ]
    }
   ],
   "source": [
    "wandb.init(project=\"comparing with resnet models\", name = \"ResNet50\", reinit = True)\n",
    "\n",
    "criterion = nn.CrossEntropyLoss()\n",
    "optimizer = torch.optim.Adam(model3.parameters(), lr=0.001)\n",
    "scheduler = ReduceLROnPlateau(optimizer, 'min', patience=5)\n",
    "num_epochs = 50\n",
    "\n",
    "model3.to(device)\n",
    "train_losses, val_losses, train_accuracies, val_accuracies = train_and_evaluate_model(model3, train_loader, val_loader, criterion, optimizer, num_epochs)\n",
    "\n",
    "clear_gpu()"
   ]
  },
  {
   "cell_type": "code",
   "execution_count": 14,
   "metadata": {},
   "outputs": [
    {
     "name": "stderr",
     "output_type": "stream",
     "text": [
      "wandb: WARNING Source type is set to 'repo' but some required information is missing from the environment. A job will not be created from this run. See https://docs.wandb.ai/guides/launch/create-job\n"
     ]
    },
    {
     "data": {
      "text/html": [
       "<style>\n",
       "    table.wandb td:nth-child(1) { padding: 0 10px; text-align: left ; width: auto;} td:nth-child(2) {text-align: left ; width: 100%}\n",
       "    .wandb-row { display: flex; flex-direction: row; flex-wrap: wrap; justify-content: flex-start; width: 100% }\n",
       "    .wandb-col { display: flex; flex-direction: column; flex-basis: 100%; flex: 1; padding: 10px; }\n",
       "    </style>\n",
       "<div class=\"wandb-row\"><div class=\"wandb-col\"><h3>Run history:</h3><br/><table class=\"wandb\"><tr><td>epoch</td><td>▁▁▁▁▂▂▂▂▂▃▃▃▃▃▃▄▄▄▄▄▅▅▅▅▅▅▆▆▆▆▆▆▇▇▇▇▇███</td></tr><tr><td>learning_rate</td><td>████████████████████████▂▂▂▂▂▂▂▁▁▁▁▁▁▁▁▁</td></tr><tr><td>train_accuracy</td><td>▁▃▃▄▄▅▅▅▅▅▅▆▆▆▆▆▆▆▆▆▇▇▇▇▇███████████████</td></tr><tr><td>train_loss</td><td>█▆▆▅▅▄▄▄▄▄▄▃▃▃▃▃▃▃▃▃▂▂▂▂▂▂▁▁▁▁▁▁▁▁▁▁▁▁▁▁</td></tr><tr><td>val_accuracy</td><td>▁▄▅▄▅▆▅▅▄▅▆▆▆▆▆▅▇▇▇▇▇▆▇▇████████████████</td></tr><tr><td>val_loss</td><td>█▃▃▄▄▃▄▅▆▃▂▂▂▂▂▄▂▂▂▂▂▂▂▂▁▁▁▁▁▁▁▁▁▁▁▁▁▁▁▁</td></tr></table><br/></div><div class=\"wandb-col\"><h3>Run summary:</h3><br/><table class=\"wandb\"><tr><td>epoch</td><td>49</td></tr><tr><td>learning_rate</td><td>0.0</td></tr><tr><td>train_accuracy</td><td>0.96062</td></tr><tr><td>train_loss</td><td>0.08714</td></tr><tr><td>val_accuracy</td><td>0.86111</td></tr><tr><td>val_loss</td><td>0.51297</td></tr></table><br/></div></div>"
      ],
      "text/plain": [
       "<IPython.core.display.HTML object>"
      ]
     },
     "metadata": {},
     "output_type": "display_data"
    },
    {
     "data": {
      "text/html": [
       " View run <strong style=\"color:#cdcd00\">ResNet34</strong> at: <a href='https://wandb.ai/chibachann/comparing%20with%20resnet%20models/runs/tdcw8qoq' target=\"_blank\">https://wandb.ai/chibachann/comparing%20with%20resnet%20models/runs/tdcw8qoq</a><br/>Synced 6 W&B file(s), 0 media file(s), 0 artifact file(s) and 0 other file(s)"
      ],
      "text/plain": [
       "<IPython.core.display.HTML object>"
      ]
     },
     "metadata": {},
     "output_type": "display_data"
    },
    {
     "data": {
      "text/html": [
       "Find logs at: <code>./wandb/run-20231211_000436-tdcw8qoq/logs</code>"
      ],
      "text/plain": [
       "<IPython.core.display.HTML object>"
      ]
     },
     "metadata": {},
     "output_type": "display_data"
    }
   ],
   "source": [
    "wandb.finish()"
   ]
  }
 ],
 "metadata": {
  "kernelspec": {
   "display_name": "Python 3 (ipykernel)",
   "language": "python",
   "name": "python3"
  },
  "language_info": {
   "codemirror_mode": {
    "name": "ipython",
    "version": 3
   },
   "file_extension": ".py",
   "mimetype": "text/x-python",
   "name": "python",
   "nbconvert_exporter": "python",
   "pygments_lexer": "ipython3",
   "version": "3.9.0"
  }
 },
 "nbformat": 4,
 "nbformat_minor": 2
}
